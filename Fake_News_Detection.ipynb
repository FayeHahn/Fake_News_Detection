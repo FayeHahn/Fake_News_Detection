{
  "cells": [
    {
      "cell_type": "markdown",
      "id": "699c205e",
      "metadata": {
        "id": "699c205e"
      },
      "source": [
        "Research question: is textual data enough to differentiate between fake news & true news?"
      ]
    },
    {
      "cell_type": "markdown",
      "id": "3e9807af",
      "metadata": {
        "id": "3e9807af"
      },
      "source": [
        "helpful source code for text classification & analysis:\n",
        "https://github.com/Christophe-pere/Text-classification"
      ]
    },
    {
      "cell_type": "markdown",
      "id": "792429a6",
      "metadata": {
        "id": "792429a6"
      },
      "source": [
        "## Imports & Data load "
      ]
    },
    {
      "cell_type": "code",
      "execution_count": null,
      "id": "957895ea",
      "metadata": {
        "id": "957895ea"
      },
      "outputs": [],
      "source": [
        "# import needed libraries\n",
        "import numpy as np\n",
        "import nltk\n",
        "import pandas as pd\n",
        "import matplotlib.pyplot as plt\n",
        "import seaborn as sns\n",
        "from nltk.tokenize import sent_tokenize, word_tokenize, TweetTokenizer\n",
        "from nltk import bigrams, trigrams\n",
        "from nltk.sentiment.vader import SentimentIntensityAnalyzer\n",
        "from collections import Counter, defaultdict\n",
        "from prettytable import PrettyTable\n",
        "import re\n",
        "from tqdm import tqdm\n",
        "from sklearn.feature_extraction.text import CountVectorizer, TfidfVectorizer\n",
        "from gensim.parsing.preprocessing import remove_stopwords,strip_punctuation\n",
        "import spacy\n",
        "from nltk.probability import FreqDist\n",
        "from sklearn.decomposition import PCA\n",
        "from sklearn.decomposition import TruncatedSVD\n",
        "from sklearn.manifold import TSNE\n",
        "import matplotlib.patheffects as PathEffects\n",
        "from sklearn.decomposition import LatentDirichletAllocation as LDA\n",
        "from nltk.stem import WordNetLemmatizer\n",
        "from nltk.sentiment.vader import SentimentIntensityAnalyzer\n",
        "from sklearn.model_selection import train_test_split\n",
        "from nltk.classify.scikitlearn import SklearnClassifier\n",
        "from sklearn.naive_bayes import MultinomialNB\n",
        "from sklearn.metrics import classification_report, accuracy_score\n",
        "from nltk.metrics import ConfusionMatrix"
      ]
    },
    {
      "cell_type": "code",
      "source": [
        "# only needed when run in colab\n",
        "nltk.download('punkt')\n",
        "nltk.download('wordnet')\n",
        "nltk.download('vader_lexicon')"
      ],
      "metadata": {
        "colab": {
          "base_uri": "https://localhost:8080/"
        },
        "id": "pE6-K6aPEsaF",
        "outputId": "d9821963-727d-4809-e4b0-af4d4c0c7b35"
      },
      "id": "pE6-K6aPEsaF",
      "execution_count": null,
      "outputs": [
        {
          "output_type": "stream",
          "name": "stdout",
          "text": [
            "[nltk_data] Downloading package punkt to /root/nltk_data...\n",
            "[nltk_data]   Unzipping tokenizers/punkt.zip.\n",
            "[nltk_data] Downloading package wordnet to /root/nltk_data...\n",
            "[nltk_data]   Unzipping corpora/wordnet.zip.\n",
            "[nltk_data] Downloading package vader_lexicon to /root/nltk_data...\n"
          ]
        },
        {
          "output_type": "execute_result",
          "data": {
            "text/plain": [
              "True"
            ]
          },
          "metadata": {},
          "execution_count": 3
        }
      ]
    },
    {
      "cell_type": "code",
      "execution_count": null,
      "id": "23ff3036",
      "metadata": {
        "id": "23ff3036"
      },
      "outputs": [],
      "source": [
        "# loading the datasets\n",
        "fake = pd.read_csv('Fake_news.csv')\n",
        "true = pd.read_csv('True_news.csv')\n",
        "\n",
        "corpus = fake.append(true)\n",
        "corpus[\"fake\"] = [1 for i in range(len(fake))]+[0 for i in range(len(true))]"
      ]
    },
    {
      "cell_type": "code",
      "execution_count": null,
      "id": "e6c291f8",
      "metadata": {
        "id": "e6c291f8",
        "colab": {
          "base_uri": "https://localhost:8080/",
          "height": 424
        },
        "outputId": "ce4b80e5-b6f5-4c03-86c1-2fb9909df19d"
      },
      "outputs": [
        {
          "output_type": "execute_result",
          "data": {
            "text/plain": [
              "                                                   title  \\\n",
              "0       Donald Trump Sends Out Embarrassing New Year’...   \n",
              "1       Drunk Bragging Trump Staffer Started Russian ...   \n",
              "2       Sheriff David Clarke Becomes An Internet Joke...   \n",
              "3       Trump Is So Obsessed He Even Has Obama’s Name...   \n",
              "4       Pope Francis Just Called Out Donald Trump Dur...   \n",
              "...                                                  ...   \n",
              "23476  McPain: John McCain Furious That Iran Treated ...   \n",
              "23477  JUSTICE? Yahoo Settles E-mail Privacy Class-ac...   \n",
              "23478  Sunnistan: US and Allied ‘Safe Zone’ Plan to T...   \n",
              "23479  How to Blow $700 Million: Al Jazeera America F...   \n",
              "23480  10 U.S. Navy Sailors Held by Iranian Military ...   \n",
              "\n",
              "                                                    text      subject  \\\n",
              "0      Donald Trump just couldn t wish all Americans ...         News   \n",
              "1      House Intelligence Committee Chairman Devin Nu...         News   \n",
              "2      On Friday, it was revealed that former Milwauk...         News   \n",
              "3      On Christmas day, Donald Trump announced that ...         News   \n",
              "4      Pope Francis used his annual Christmas Day mes...         News   \n",
              "...                                                  ...          ...   \n",
              "23476  21st Century Wire says As 21WIRE reported earl...  Middle-east   \n",
              "23477  21st Century Wire says It s a familiar theme. ...  Middle-east   \n",
              "23478  Patrick Henningsen  21st Century WireRemember ...  Middle-east   \n",
              "23479  21st Century Wire says Al Jazeera America will...  Middle-east   \n",
              "23480  21st Century Wire says As 21WIRE predicted in ...  Middle-east   \n",
              "\n",
              "                    date  \n",
              "0      December 31, 2017  \n",
              "1      December 31, 2017  \n",
              "2      December 30, 2017  \n",
              "3      December 29, 2017  \n",
              "4      December 25, 2017  \n",
              "...                  ...  \n",
              "23476   January 16, 2016  \n",
              "23477   January 16, 2016  \n",
              "23478   January 15, 2016  \n",
              "23479   January 14, 2016  \n",
              "23480   January 12, 2016  \n",
              "\n",
              "[23481 rows x 4 columns]"
            ],
            "text/html": [
              "\n",
              "  <div id=\"df-37399cf2-9666-4195-91ae-65b839c174b6\">\n",
              "    <div class=\"colab-df-container\">\n",
              "      <div>\n",
              "<style scoped>\n",
              "    .dataframe tbody tr th:only-of-type {\n",
              "        vertical-align: middle;\n",
              "    }\n",
              "\n",
              "    .dataframe tbody tr th {\n",
              "        vertical-align: top;\n",
              "    }\n",
              "\n",
              "    .dataframe thead th {\n",
              "        text-align: right;\n",
              "    }\n",
              "</style>\n",
              "<table border=\"1\" class=\"dataframe\">\n",
              "  <thead>\n",
              "    <tr style=\"text-align: right;\">\n",
              "      <th></th>\n",
              "      <th>title</th>\n",
              "      <th>text</th>\n",
              "      <th>subject</th>\n",
              "      <th>date</th>\n",
              "    </tr>\n",
              "  </thead>\n",
              "  <tbody>\n",
              "    <tr>\n",
              "      <th>0</th>\n",
              "      <td>Donald Trump Sends Out Embarrassing New Year’...</td>\n",
              "      <td>Donald Trump just couldn t wish all Americans ...</td>\n",
              "      <td>News</td>\n",
              "      <td>December 31, 2017</td>\n",
              "    </tr>\n",
              "    <tr>\n",
              "      <th>1</th>\n",
              "      <td>Drunk Bragging Trump Staffer Started Russian ...</td>\n",
              "      <td>House Intelligence Committee Chairman Devin Nu...</td>\n",
              "      <td>News</td>\n",
              "      <td>December 31, 2017</td>\n",
              "    </tr>\n",
              "    <tr>\n",
              "      <th>2</th>\n",
              "      <td>Sheriff David Clarke Becomes An Internet Joke...</td>\n",
              "      <td>On Friday, it was revealed that former Milwauk...</td>\n",
              "      <td>News</td>\n",
              "      <td>December 30, 2017</td>\n",
              "    </tr>\n",
              "    <tr>\n",
              "      <th>3</th>\n",
              "      <td>Trump Is So Obsessed He Even Has Obama’s Name...</td>\n",
              "      <td>On Christmas day, Donald Trump announced that ...</td>\n",
              "      <td>News</td>\n",
              "      <td>December 29, 2017</td>\n",
              "    </tr>\n",
              "    <tr>\n",
              "      <th>4</th>\n",
              "      <td>Pope Francis Just Called Out Donald Trump Dur...</td>\n",
              "      <td>Pope Francis used his annual Christmas Day mes...</td>\n",
              "      <td>News</td>\n",
              "      <td>December 25, 2017</td>\n",
              "    </tr>\n",
              "    <tr>\n",
              "      <th>...</th>\n",
              "      <td>...</td>\n",
              "      <td>...</td>\n",
              "      <td>...</td>\n",
              "      <td>...</td>\n",
              "    </tr>\n",
              "    <tr>\n",
              "      <th>23476</th>\n",
              "      <td>McPain: John McCain Furious That Iran Treated ...</td>\n",
              "      <td>21st Century Wire says As 21WIRE reported earl...</td>\n",
              "      <td>Middle-east</td>\n",
              "      <td>January 16, 2016</td>\n",
              "    </tr>\n",
              "    <tr>\n",
              "      <th>23477</th>\n",
              "      <td>JUSTICE? Yahoo Settles E-mail Privacy Class-ac...</td>\n",
              "      <td>21st Century Wire says It s a familiar theme. ...</td>\n",
              "      <td>Middle-east</td>\n",
              "      <td>January 16, 2016</td>\n",
              "    </tr>\n",
              "    <tr>\n",
              "      <th>23478</th>\n",
              "      <td>Sunnistan: US and Allied ‘Safe Zone’ Plan to T...</td>\n",
              "      <td>Patrick Henningsen  21st Century WireRemember ...</td>\n",
              "      <td>Middle-east</td>\n",
              "      <td>January 15, 2016</td>\n",
              "    </tr>\n",
              "    <tr>\n",
              "      <th>23479</th>\n",
              "      <td>How to Blow $700 Million: Al Jazeera America F...</td>\n",
              "      <td>21st Century Wire says Al Jazeera America will...</td>\n",
              "      <td>Middle-east</td>\n",
              "      <td>January 14, 2016</td>\n",
              "    </tr>\n",
              "    <tr>\n",
              "      <th>23480</th>\n",
              "      <td>10 U.S. Navy Sailors Held by Iranian Military ...</td>\n",
              "      <td>21st Century Wire says As 21WIRE predicted in ...</td>\n",
              "      <td>Middle-east</td>\n",
              "      <td>January 12, 2016</td>\n",
              "    </tr>\n",
              "  </tbody>\n",
              "</table>\n",
              "<p>23481 rows × 4 columns</p>\n",
              "</div>\n",
              "      <button class=\"colab-df-convert\" onclick=\"convertToInteractive('df-37399cf2-9666-4195-91ae-65b839c174b6')\"\n",
              "              title=\"Convert this dataframe to an interactive table.\"\n",
              "              style=\"display:none;\">\n",
              "        \n",
              "  <svg xmlns=\"http://www.w3.org/2000/svg\" height=\"24px\"viewBox=\"0 0 24 24\"\n",
              "       width=\"24px\">\n",
              "    <path d=\"M0 0h24v24H0V0z\" fill=\"none\"/>\n",
              "    <path d=\"M18.56 5.44l.94 2.06.94-2.06 2.06-.94-2.06-.94-.94-2.06-.94 2.06-2.06.94zm-11 1L8.5 8.5l.94-2.06 2.06-.94-2.06-.94L8.5 2.5l-.94 2.06-2.06.94zm10 10l.94 2.06.94-2.06 2.06-.94-2.06-.94-.94-2.06-.94 2.06-2.06.94z\"/><path d=\"M17.41 7.96l-1.37-1.37c-.4-.4-.92-.59-1.43-.59-.52 0-1.04.2-1.43.59L10.3 9.45l-7.72 7.72c-.78.78-.78 2.05 0 2.83L4 21.41c.39.39.9.59 1.41.59.51 0 1.02-.2 1.41-.59l7.78-7.78 2.81-2.81c.8-.78.8-2.07 0-2.86zM5.41 20L4 18.59l7.72-7.72 1.47 1.35L5.41 20z\"/>\n",
              "  </svg>\n",
              "      </button>\n",
              "      \n",
              "  <style>\n",
              "    .colab-df-container {\n",
              "      display:flex;\n",
              "      flex-wrap:wrap;\n",
              "      gap: 12px;\n",
              "    }\n",
              "\n",
              "    .colab-df-convert {\n",
              "      background-color: #E8F0FE;\n",
              "      border: none;\n",
              "      border-radius: 50%;\n",
              "      cursor: pointer;\n",
              "      display: none;\n",
              "      fill: #1967D2;\n",
              "      height: 32px;\n",
              "      padding: 0 0 0 0;\n",
              "      width: 32px;\n",
              "    }\n",
              "\n",
              "    .colab-df-convert:hover {\n",
              "      background-color: #E2EBFA;\n",
              "      box-shadow: 0px 1px 2px rgba(60, 64, 67, 0.3), 0px 1px 3px 1px rgba(60, 64, 67, 0.15);\n",
              "      fill: #174EA6;\n",
              "    }\n",
              "\n",
              "    [theme=dark] .colab-df-convert {\n",
              "      background-color: #3B4455;\n",
              "      fill: #D2E3FC;\n",
              "    }\n",
              "\n",
              "    [theme=dark] .colab-df-convert:hover {\n",
              "      background-color: #434B5C;\n",
              "      box-shadow: 0px 1px 3px 1px rgba(0, 0, 0, 0.15);\n",
              "      filter: drop-shadow(0px 1px 2px rgba(0, 0, 0, 0.3));\n",
              "      fill: #FFFFFF;\n",
              "    }\n",
              "  </style>\n",
              "\n",
              "      <script>\n",
              "        const buttonEl =\n",
              "          document.querySelector('#df-37399cf2-9666-4195-91ae-65b839c174b6 button.colab-df-convert');\n",
              "        buttonEl.style.display =\n",
              "          google.colab.kernel.accessAllowed ? 'block' : 'none';\n",
              "\n",
              "        async function convertToInteractive(key) {\n",
              "          const element = document.querySelector('#df-37399cf2-9666-4195-91ae-65b839c174b6');\n",
              "          const dataTable =\n",
              "            await google.colab.kernel.invokeFunction('convertToInteractive',\n",
              "                                                     [key], {});\n",
              "          if (!dataTable) return;\n",
              "\n",
              "          const docLinkHtml = 'Like what you see? Visit the ' +\n",
              "            '<a target=\"_blank\" href=https://colab.research.google.com/notebooks/data_table.ipynb>data table notebook</a>'\n",
              "            + ' to learn more about interactive tables.';\n",
              "          element.innerHTML = '';\n",
              "          dataTable['output_type'] = 'display_data';\n",
              "          await google.colab.output.renderOutput(dataTable, element);\n",
              "          const docLink = document.createElement('div');\n",
              "          docLink.innerHTML = docLinkHtml;\n",
              "          element.appendChild(docLink);\n",
              "        }\n",
              "      </script>\n",
              "    </div>\n",
              "  </div>\n",
              "  "
            ]
          },
          "metadata": {},
          "execution_count": 68
        }
      ],
      "source": [
        "# plot fake data\n",
        "fake"
      ]
    },
    {
      "cell_type": "code",
      "execution_count": null,
      "id": "d52e3721",
      "metadata": {
        "id": "d52e3721",
        "colab": {
          "base_uri": "https://localhost:8080/",
          "height": 424
        },
        "outputId": "0d0596d6-9cc0-4da3-815b-95a32ef2af80"
      },
      "outputs": [
        {
          "output_type": "execute_result",
          "data": {
            "text/plain": [
              "                                                   title  \\\n",
              "0      As U.S. budget fight looms, Republicans flip t...   \n",
              "1      U.S. military to accept transgender recruits o...   \n",
              "2      Senior U.S. Republican senator: 'Let Mr. Muell...   \n",
              "3      FBI Russia probe helped by Australian diplomat...   \n",
              "4      Trump wants Postal Service to charge 'much mor...   \n",
              "...                                                  ...   \n",
              "21412  'Fully committed' NATO backs new U.S. approach...   \n",
              "21413  LexisNexis withdrew two products from Chinese ...   \n",
              "21414  Minsk cultural hub becomes haven from authorities   \n",
              "21415  Vatican upbeat on possibility of Pope Francis ...   \n",
              "21416  Indonesia to buy $1.14 billion worth of Russia...   \n",
              "\n",
              "                                                    text       subject  \\\n",
              "0      WASHINGTON (Reuters) - The head of a conservat...  politicsNews   \n",
              "1      WASHINGTON (Reuters) - Transgender people will...  politicsNews   \n",
              "2      WASHINGTON (Reuters) - The special counsel inv...  politicsNews   \n",
              "3      WASHINGTON (Reuters) - Trump campaign adviser ...  politicsNews   \n",
              "4      SEATTLE/WASHINGTON (Reuters) - President Donal...  politicsNews   \n",
              "...                                                  ...           ...   \n",
              "21412  BRUSSELS (Reuters) - NATO allies on Tuesday we...     worldnews   \n",
              "21413  LONDON (Reuters) - LexisNexis, a provider of l...     worldnews   \n",
              "21414  MINSK (Reuters) - In the shadow of disused Sov...     worldnews   \n",
              "21415  MOSCOW (Reuters) - Vatican Secretary of State ...     worldnews   \n",
              "21416  JAKARTA (Reuters) - Indonesia will buy 11 Sukh...     worldnews   \n",
              "\n",
              "                     date  \n",
              "0      December 31, 2017   \n",
              "1      December 29, 2017   \n",
              "2      December 31, 2017   \n",
              "3      December 30, 2017   \n",
              "4      December 29, 2017   \n",
              "...                   ...  \n",
              "21412    August 22, 2017   \n",
              "21413    August 22, 2017   \n",
              "21414    August 22, 2017   \n",
              "21415    August 22, 2017   \n",
              "21416    August 22, 2017   \n",
              "\n",
              "[21417 rows x 4 columns]"
            ],
            "text/html": [
              "\n",
              "  <div id=\"df-67149752-b769-400e-8b1c-e5ab2e2f8f6d\">\n",
              "    <div class=\"colab-df-container\">\n",
              "      <div>\n",
              "<style scoped>\n",
              "    .dataframe tbody tr th:only-of-type {\n",
              "        vertical-align: middle;\n",
              "    }\n",
              "\n",
              "    .dataframe tbody tr th {\n",
              "        vertical-align: top;\n",
              "    }\n",
              "\n",
              "    .dataframe thead th {\n",
              "        text-align: right;\n",
              "    }\n",
              "</style>\n",
              "<table border=\"1\" class=\"dataframe\">\n",
              "  <thead>\n",
              "    <tr style=\"text-align: right;\">\n",
              "      <th></th>\n",
              "      <th>title</th>\n",
              "      <th>text</th>\n",
              "      <th>subject</th>\n",
              "      <th>date</th>\n",
              "    </tr>\n",
              "  </thead>\n",
              "  <tbody>\n",
              "    <tr>\n",
              "      <th>0</th>\n",
              "      <td>As U.S. budget fight looms, Republicans flip t...</td>\n",
              "      <td>WASHINGTON (Reuters) - The head of a conservat...</td>\n",
              "      <td>politicsNews</td>\n",
              "      <td>December 31, 2017</td>\n",
              "    </tr>\n",
              "    <tr>\n",
              "      <th>1</th>\n",
              "      <td>U.S. military to accept transgender recruits o...</td>\n",
              "      <td>WASHINGTON (Reuters) - Transgender people will...</td>\n",
              "      <td>politicsNews</td>\n",
              "      <td>December 29, 2017</td>\n",
              "    </tr>\n",
              "    <tr>\n",
              "      <th>2</th>\n",
              "      <td>Senior U.S. Republican senator: 'Let Mr. Muell...</td>\n",
              "      <td>WASHINGTON (Reuters) - The special counsel inv...</td>\n",
              "      <td>politicsNews</td>\n",
              "      <td>December 31, 2017</td>\n",
              "    </tr>\n",
              "    <tr>\n",
              "      <th>3</th>\n",
              "      <td>FBI Russia probe helped by Australian diplomat...</td>\n",
              "      <td>WASHINGTON (Reuters) - Trump campaign adviser ...</td>\n",
              "      <td>politicsNews</td>\n",
              "      <td>December 30, 2017</td>\n",
              "    </tr>\n",
              "    <tr>\n",
              "      <th>4</th>\n",
              "      <td>Trump wants Postal Service to charge 'much mor...</td>\n",
              "      <td>SEATTLE/WASHINGTON (Reuters) - President Donal...</td>\n",
              "      <td>politicsNews</td>\n",
              "      <td>December 29, 2017</td>\n",
              "    </tr>\n",
              "    <tr>\n",
              "      <th>...</th>\n",
              "      <td>...</td>\n",
              "      <td>...</td>\n",
              "      <td>...</td>\n",
              "      <td>...</td>\n",
              "    </tr>\n",
              "    <tr>\n",
              "      <th>21412</th>\n",
              "      <td>'Fully committed' NATO backs new U.S. approach...</td>\n",
              "      <td>BRUSSELS (Reuters) - NATO allies on Tuesday we...</td>\n",
              "      <td>worldnews</td>\n",
              "      <td>August 22, 2017</td>\n",
              "    </tr>\n",
              "    <tr>\n",
              "      <th>21413</th>\n",
              "      <td>LexisNexis withdrew two products from Chinese ...</td>\n",
              "      <td>LONDON (Reuters) - LexisNexis, a provider of l...</td>\n",
              "      <td>worldnews</td>\n",
              "      <td>August 22, 2017</td>\n",
              "    </tr>\n",
              "    <tr>\n",
              "      <th>21414</th>\n",
              "      <td>Minsk cultural hub becomes haven from authorities</td>\n",
              "      <td>MINSK (Reuters) - In the shadow of disused Sov...</td>\n",
              "      <td>worldnews</td>\n",
              "      <td>August 22, 2017</td>\n",
              "    </tr>\n",
              "    <tr>\n",
              "      <th>21415</th>\n",
              "      <td>Vatican upbeat on possibility of Pope Francis ...</td>\n",
              "      <td>MOSCOW (Reuters) - Vatican Secretary of State ...</td>\n",
              "      <td>worldnews</td>\n",
              "      <td>August 22, 2017</td>\n",
              "    </tr>\n",
              "    <tr>\n",
              "      <th>21416</th>\n",
              "      <td>Indonesia to buy $1.14 billion worth of Russia...</td>\n",
              "      <td>JAKARTA (Reuters) - Indonesia will buy 11 Sukh...</td>\n",
              "      <td>worldnews</td>\n",
              "      <td>August 22, 2017</td>\n",
              "    </tr>\n",
              "  </tbody>\n",
              "</table>\n",
              "<p>21417 rows × 4 columns</p>\n",
              "</div>\n",
              "      <button class=\"colab-df-convert\" onclick=\"convertToInteractive('df-67149752-b769-400e-8b1c-e5ab2e2f8f6d')\"\n",
              "              title=\"Convert this dataframe to an interactive table.\"\n",
              "              style=\"display:none;\">\n",
              "        \n",
              "  <svg xmlns=\"http://www.w3.org/2000/svg\" height=\"24px\"viewBox=\"0 0 24 24\"\n",
              "       width=\"24px\">\n",
              "    <path d=\"M0 0h24v24H0V0z\" fill=\"none\"/>\n",
              "    <path d=\"M18.56 5.44l.94 2.06.94-2.06 2.06-.94-2.06-.94-.94-2.06-.94 2.06-2.06.94zm-11 1L8.5 8.5l.94-2.06 2.06-.94-2.06-.94L8.5 2.5l-.94 2.06-2.06.94zm10 10l.94 2.06.94-2.06 2.06-.94-2.06-.94-.94-2.06-.94 2.06-2.06.94z\"/><path d=\"M17.41 7.96l-1.37-1.37c-.4-.4-.92-.59-1.43-.59-.52 0-1.04.2-1.43.59L10.3 9.45l-7.72 7.72c-.78.78-.78 2.05 0 2.83L4 21.41c.39.39.9.59 1.41.59.51 0 1.02-.2 1.41-.59l7.78-7.78 2.81-2.81c.8-.78.8-2.07 0-2.86zM5.41 20L4 18.59l7.72-7.72 1.47 1.35L5.41 20z\"/>\n",
              "  </svg>\n",
              "      </button>\n",
              "      \n",
              "  <style>\n",
              "    .colab-df-container {\n",
              "      display:flex;\n",
              "      flex-wrap:wrap;\n",
              "      gap: 12px;\n",
              "    }\n",
              "\n",
              "    .colab-df-convert {\n",
              "      background-color: #E8F0FE;\n",
              "      border: none;\n",
              "      border-radius: 50%;\n",
              "      cursor: pointer;\n",
              "      display: none;\n",
              "      fill: #1967D2;\n",
              "      height: 32px;\n",
              "      padding: 0 0 0 0;\n",
              "      width: 32px;\n",
              "    }\n",
              "\n",
              "    .colab-df-convert:hover {\n",
              "      background-color: #E2EBFA;\n",
              "      box-shadow: 0px 1px 2px rgba(60, 64, 67, 0.3), 0px 1px 3px 1px rgba(60, 64, 67, 0.15);\n",
              "      fill: #174EA6;\n",
              "    }\n",
              "\n",
              "    [theme=dark] .colab-df-convert {\n",
              "      background-color: #3B4455;\n",
              "      fill: #D2E3FC;\n",
              "    }\n",
              "\n",
              "    [theme=dark] .colab-df-convert:hover {\n",
              "      background-color: #434B5C;\n",
              "      box-shadow: 0px 1px 3px 1px rgba(0, 0, 0, 0.15);\n",
              "      filter: drop-shadow(0px 1px 2px rgba(0, 0, 0, 0.3));\n",
              "      fill: #FFFFFF;\n",
              "    }\n",
              "  </style>\n",
              "\n",
              "      <script>\n",
              "        const buttonEl =\n",
              "          document.querySelector('#df-67149752-b769-400e-8b1c-e5ab2e2f8f6d button.colab-df-convert');\n",
              "        buttonEl.style.display =\n",
              "          google.colab.kernel.accessAllowed ? 'block' : 'none';\n",
              "\n",
              "        async function convertToInteractive(key) {\n",
              "          const element = document.querySelector('#df-67149752-b769-400e-8b1c-e5ab2e2f8f6d');\n",
              "          const dataTable =\n",
              "            await google.colab.kernel.invokeFunction('convertToInteractive',\n",
              "                                                     [key], {});\n",
              "          if (!dataTable) return;\n",
              "\n",
              "          const docLinkHtml = 'Like what you see? Visit the ' +\n",
              "            '<a target=\"_blank\" href=https://colab.research.google.com/notebooks/data_table.ipynb>data table notebook</a>'\n",
              "            + ' to learn more about interactive tables.';\n",
              "          element.innerHTML = '';\n",
              "          dataTable['output_type'] = 'display_data';\n",
              "          await google.colab.output.renderOutput(dataTable, element);\n",
              "          const docLink = document.createElement('div');\n",
              "          docLink.innerHTML = docLinkHtml;\n",
              "          element.appendChild(docLink);\n",
              "        }\n",
              "      </script>\n",
              "    </div>\n",
              "  </div>\n",
              "  "
            ]
          },
          "metadata": {},
          "execution_count": 69
        }
      ],
      "source": [
        "# plot true data\n",
        "true"
      ]
    },
    {
      "cell_type": "code",
      "execution_count": null,
      "id": "2234515c",
      "metadata": {
        "id": "2234515c",
        "colab": {
          "base_uri": "https://localhost:8080/"
        },
        "outputId": "3da7570b-9a32-40ce-b520-ce282399fd03"
      },
      "outputs": [
        {
          "output_type": "stream",
          "name": "stdout",
          "text": [
            "Fake news info:\n",
            "\n",
            "<class 'pandas.core.frame.DataFrame'>\n",
            "RangeIndex: 23481 entries, 0 to 23480\n",
            "Data columns (total 4 columns):\n",
            " #   Column   Non-Null Count  Dtype \n",
            "---  ------   --------------  ----- \n",
            " 0   title    23481 non-null  object\n",
            " 1   text     23481 non-null  object\n",
            " 2   subject  23481 non-null  object\n",
            " 3   date     23481 non-null  object\n",
            "dtypes: object(4)\n",
            "memory usage: 733.9+ KB\n",
            "None \n",
            "\n",
            "\n",
            "True news info:\n",
            "\n",
            "<class 'pandas.core.frame.DataFrame'>\n",
            "RangeIndex: 21417 entries, 0 to 21416\n",
            "Data columns (total 4 columns):\n",
            " #   Column   Non-Null Count  Dtype \n",
            "---  ------   --------------  ----- \n",
            " 0   title    21417 non-null  object\n",
            " 1   text     21417 non-null  object\n",
            " 2   subject  21417 non-null  object\n",
            " 3   date     21417 non-null  object\n",
            "dtypes: object(4)\n",
            "memory usage: 669.4+ KB\n",
            "None\n"
          ]
        }
      ],
      "source": [
        "print(\"Fake news info:\\n\")\n",
        "print(fake.info(), \"\\n\\n\")\n",
        "print(\"True news info:\\n\")\n",
        "print(true.info())"
      ]
    },
    {
      "cell_type": "code",
      "execution_count": null,
      "id": "2168a5d9",
      "metadata": {
        "id": "2168a5d9",
        "colab": {
          "base_uri": "https://localhost:8080/",
          "height": 175
        },
        "outputId": "be28ce62-1970-412a-9d6f-3f1cd478abd3"
      },
      "outputs": [
        {
          "output_type": "execute_result",
          "data": {
            "text/plain": [
              "                                                    title   text subject  \\\n",
              "count                                               23481  23481   23481   \n",
              "unique                                              17903  17455       6   \n",
              "top     MEDIA IGNORES Time That Bill Clinton FIRED His...           News   \n",
              "freq                                                    6    626    9050   \n",
              "\n",
              "                date  \n",
              "count          23481  \n",
              "unique          1681  \n",
              "top     May 10, 2017  \n",
              "freq              46  "
            ],
            "text/html": [
              "\n",
              "  <div id=\"df-1a0d915f-49af-4f18-98ff-0a8b391d0460\">\n",
              "    <div class=\"colab-df-container\">\n",
              "      <div>\n",
              "<style scoped>\n",
              "    .dataframe tbody tr th:only-of-type {\n",
              "        vertical-align: middle;\n",
              "    }\n",
              "\n",
              "    .dataframe tbody tr th {\n",
              "        vertical-align: top;\n",
              "    }\n",
              "\n",
              "    .dataframe thead th {\n",
              "        text-align: right;\n",
              "    }\n",
              "</style>\n",
              "<table border=\"1\" class=\"dataframe\">\n",
              "  <thead>\n",
              "    <tr style=\"text-align: right;\">\n",
              "      <th></th>\n",
              "      <th>title</th>\n",
              "      <th>text</th>\n",
              "      <th>subject</th>\n",
              "      <th>date</th>\n",
              "    </tr>\n",
              "  </thead>\n",
              "  <tbody>\n",
              "    <tr>\n",
              "      <th>count</th>\n",
              "      <td>23481</td>\n",
              "      <td>23481</td>\n",
              "      <td>23481</td>\n",
              "      <td>23481</td>\n",
              "    </tr>\n",
              "    <tr>\n",
              "      <th>unique</th>\n",
              "      <td>17903</td>\n",
              "      <td>17455</td>\n",
              "      <td>6</td>\n",
              "      <td>1681</td>\n",
              "    </tr>\n",
              "    <tr>\n",
              "      <th>top</th>\n",
              "      <td>MEDIA IGNORES Time That Bill Clinton FIRED His...</td>\n",
              "      <td></td>\n",
              "      <td>News</td>\n",
              "      <td>May 10, 2017</td>\n",
              "    </tr>\n",
              "    <tr>\n",
              "      <th>freq</th>\n",
              "      <td>6</td>\n",
              "      <td>626</td>\n",
              "      <td>9050</td>\n",
              "      <td>46</td>\n",
              "    </tr>\n",
              "  </tbody>\n",
              "</table>\n",
              "</div>\n",
              "      <button class=\"colab-df-convert\" onclick=\"convertToInteractive('df-1a0d915f-49af-4f18-98ff-0a8b391d0460')\"\n",
              "              title=\"Convert this dataframe to an interactive table.\"\n",
              "              style=\"display:none;\">\n",
              "        \n",
              "  <svg xmlns=\"http://www.w3.org/2000/svg\" height=\"24px\"viewBox=\"0 0 24 24\"\n",
              "       width=\"24px\">\n",
              "    <path d=\"M0 0h24v24H0V0z\" fill=\"none\"/>\n",
              "    <path d=\"M18.56 5.44l.94 2.06.94-2.06 2.06-.94-2.06-.94-.94-2.06-.94 2.06-2.06.94zm-11 1L8.5 8.5l.94-2.06 2.06-.94-2.06-.94L8.5 2.5l-.94 2.06-2.06.94zm10 10l.94 2.06.94-2.06 2.06-.94-2.06-.94-.94-2.06-.94 2.06-2.06.94z\"/><path d=\"M17.41 7.96l-1.37-1.37c-.4-.4-.92-.59-1.43-.59-.52 0-1.04.2-1.43.59L10.3 9.45l-7.72 7.72c-.78.78-.78 2.05 0 2.83L4 21.41c.39.39.9.59 1.41.59.51 0 1.02-.2 1.41-.59l7.78-7.78 2.81-2.81c.8-.78.8-2.07 0-2.86zM5.41 20L4 18.59l7.72-7.72 1.47 1.35L5.41 20z\"/>\n",
              "  </svg>\n",
              "      </button>\n",
              "      \n",
              "  <style>\n",
              "    .colab-df-container {\n",
              "      display:flex;\n",
              "      flex-wrap:wrap;\n",
              "      gap: 12px;\n",
              "    }\n",
              "\n",
              "    .colab-df-convert {\n",
              "      background-color: #E8F0FE;\n",
              "      border: none;\n",
              "      border-radius: 50%;\n",
              "      cursor: pointer;\n",
              "      display: none;\n",
              "      fill: #1967D2;\n",
              "      height: 32px;\n",
              "      padding: 0 0 0 0;\n",
              "      width: 32px;\n",
              "    }\n",
              "\n",
              "    .colab-df-convert:hover {\n",
              "      background-color: #E2EBFA;\n",
              "      box-shadow: 0px 1px 2px rgba(60, 64, 67, 0.3), 0px 1px 3px 1px rgba(60, 64, 67, 0.15);\n",
              "      fill: #174EA6;\n",
              "    }\n",
              "\n",
              "    [theme=dark] .colab-df-convert {\n",
              "      background-color: #3B4455;\n",
              "      fill: #D2E3FC;\n",
              "    }\n",
              "\n",
              "    [theme=dark] .colab-df-convert:hover {\n",
              "      background-color: #434B5C;\n",
              "      box-shadow: 0px 1px 3px 1px rgba(0, 0, 0, 0.15);\n",
              "      filter: drop-shadow(0px 1px 2px rgba(0, 0, 0, 0.3));\n",
              "      fill: #FFFFFF;\n",
              "    }\n",
              "  </style>\n",
              "\n",
              "      <script>\n",
              "        const buttonEl =\n",
              "          document.querySelector('#df-1a0d915f-49af-4f18-98ff-0a8b391d0460 button.colab-df-convert');\n",
              "        buttonEl.style.display =\n",
              "          google.colab.kernel.accessAllowed ? 'block' : 'none';\n",
              "\n",
              "        async function convertToInteractive(key) {\n",
              "          const element = document.querySelector('#df-1a0d915f-49af-4f18-98ff-0a8b391d0460');\n",
              "          const dataTable =\n",
              "            await google.colab.kernel.invokeFunction('convertToInteractive',\n",
              "                                                     [key], {});\n",
              "          if (!dataTable) return;\n",
              "\n",
              "          const docLinkHtml = 'Like what you see? Visit the ' +\n",
              "            '<a target=\"_blank\" href=https://colab.research.google.com/notebooks/data_table.ipynb>data table notebook</a>'\n",
              "            + ' to learn more about interactive tables.';\n",
              "          element.innerHTML = '';\n",
              "          dataTable['output_type'] = 'display_data';\n",
              "          await google.colab.output.renderOutput(dataTable, element);\n",
              "          const docLink = document.createElement('div');\n",
              "          docLink.innerHTML = docLinkHtml;\n",
              "          element.appendChild(docLink);\n",
              "        }\n",
              "      </script>\n",
              "    </div>\n",
              "  </div>\n",
              "  "
            ]
          },
          "metadata": {},
          "execution_count": 71
        }
      ],
      "source": [
        "fake.describe()"
      ]
    },
    {
      "cell_type": "code",
      "execution_count": null,
      "id": "fabd2790",
      "metadata": {
        "id": "fabd2790",
        "colab": {
          "base_uri": "https://localhost:8080/",
          "height": 175
        },
        "outputId": "ace58a17-3b53-4784-9bd0-6702546c186d"
      },
      "outputs": [
        {
          "output_type": "execute_result",
          "data": {
            "text/plain": [
              "                                                    title  \\\n",
              "count                                               21417   \n",
              "unique                                              20826   \n",
              "top     Factbox: Trump fills top jobs for his administ...   \n",
              "freq                                                   14   \n",
              "\n",
              "                                                     text       subject  \\\n",
              "count                                               21417         21417   \n",
              "unique                                              21192             2   \n",
              "top     (Reuters) - Highlights for U.S. President Dona...  politicsNews   \n",
              "freq                                                    8         11272   \n",
              "\n",
              "                      date  \n",
              "count                21417  \n",
              "unique                 716  \n",
              "top     December 20, 2017   \n",
              "freq                   182  "
            ],
            "text/html": [
              "\n",
              "  <div id=\"df-0850ffb7-35b4-4aa3-837a-0bbb1f065781\">\n",
              "    <div class=\"colab-df-container\">\n",
              "      <div>\n",
              "<style scoped>\n",
              "    .dataframe tbody tr th:only-of-type {\n",
              "        vertical-align: middle;\n",
              "    }\n",
              "\n",
              "    .dataframe tbody tr th {\n",
              "        vertical-align: top;\n",
              "    }\n",
              "\n",
              "    .dataframe thead th {\n",
              "        text-align: right;\n",
              "    }\n",
              "</style>\n",
              "<table border=\"1\" class=\"dataframe\">\n",
              "  <thead>\n",
              "    <tr style=\"text-align: right;\">\n",
              "      <th></th>\n",
              "      <th>title</th>\n",
              "      <th>text</th>\n",
              "      <th>subject</th>\n",
              "      <th>date</th>\n",
              "    </tr>\n",
              "  </thead>\n",
              "  <tbody>\n",
              "    <tr>\n",
              "      <th>count</th>\n",
              "      <td>21417</td>\n",
              "      <td>21417</td>\n",
              "      <td>21417</td>\n",
              "      <td>21417</td>\n",
              "    </tr>\n",
              "    <tr>\n",
              "      <th>unique</th>\n",
              "      <td>20826</td>\n",
              "      <td>21192</td>\n",
              "      <td>2</td>\n",
              "      <td>716</td>\n",
              "    </tr>\n",
              "    <tr>\n",
              "      <th>top</th>\n",
              "      <td>Factbox: Trump fills top jobs for his administ...</td>\n",
              "      <td>(Reuters) - Highlights for U.S. President Dona...</td>\n",
              "      <td>politicsNews</td>\n",
              "      <td>December 20, 2017</td>\n",
              "    </tr>\n",
              "    <tr>\n",
              "      <th>freq</th>\n",
              "      <td>14</td>\n",
              "      <td>8</td>\n",
              "      <td>11272</td>\n",
              "      <td>182</td>\n",
              "    </tr>\n",
              "  </tbody>\n",
              "</table>\n",
              "</div>\n",
              "      <button class=\"colab-df-convert\" onclick=\"convertToInteractive('df-0850ffb7-35b4-4aa3-837a-0bbb1f065781')\"\n",
              "              title=\"Convert this dataframe to an interactive table.\"\n",
              "              style=\"display:none;\">\n",
              "        \n",
              "  <svg xmlns=\"http://www.w3.org/2000/svg\" height=\"24px\"viewBox=\"0 0 24 24\"\n",
              "       width=\"24px\">\n",
              "    <path d=\"M0 0h24v24H0V0z\" fill=\"none\"/>\n",
              "    <path d=\"M18.56 5.44l.94 2.06.94-2.06 2.06-.94-2.06-.94-.94-2.06-.94 2.06-2.06.94zm-11 1L8.5 8.5l.94-2.06 2.06-.94-2.06-.94L8.5 2.5l-.94 2.06-2.06.94zm10 10l.94 2.06.94-2.06 2.06-.94-2.06-.94-.94-2.06-.94 2.06-2.06.94z\"/><path d=\"M17.41 7.96l-1.37-1.37c-.4-.4-.92-.59-1.43-.59-.52 0-1.04.2-1.43.59L10.3 9.45l-7.72 7.72c-.78.78-.78 2.05 0 2.83L4 21.41c.39.39.9.59 1.41.59.51 0 1.02-.2 1.41-.59l7.78-7.78 2.81-2.81c.8-.78.8-2.07 0-2.86zM5.41 20L4 18.59l7.72-7.72 1.47 1.35L5.41 20z\"/>\n",
              "  </svg>\n",
              "      </button>\n",
              "      \n",
              "  <style>\n",
              "    .colab-df-container {\n",
              "      display:flex;\n",
              "      flex-wrap:wrap;\n",
              "      gap: 12px;\n",
              "    }\n",
              "\n",
              "    .colab-df-convert {\n",
              "      background-color: #E8F0FE;\n",
              "      border: none;\n",
              "      border-radius: 50%;\n",
              "      cursor: pointer;\n",
              "      display: none;\n",
              "      fill: #1967D2;\n",
              "      height: 32px;\n",
              "      padding: 0 0 0 0;\n",
              "      width: 32px;\n",
              "    }\n",
              "\n",
              "    .colab-df-convert:hover {\n",
              "      background-color: #E2EBFA;\n",
              "      box-shadow: 0px 1px 2px rgba(60, 64, 67, 0.3), 0px 1px 3px 1px rgba(60, 64, 67, 0.15);\n",
              "      fill: #174EA6;\n",
              "    }\n",
              "\n",
              "    [theme=dark] .colab-df-convert {\n",
              "      background-color: #3B4455;\n",
              "      fill: #D2E3FC;\n",
              "    }\n",
              "\n",
              "    [theme=dark] .colab-df-convert:hover {\n",
              "      background-color: #434B5C;\n",
              "      box-shadow: 0px 1px 3px 1px rgba(0, 0, 0, 0.15);\n",
              "      filter: drop-shadow(0px 1px 2px rgba(0, 0, 0, 0.3));\n",
              "      fill: #FFFFFF;\n",
              "    }\n",
              "  </style>\n",
              "\n",
              "      <script>\n",
              "        const buttonEl =\n",
              "          document.querySelector('#df-0850ffb7-35b4-4aa3-837a-0bbb1f065781 button.colab-df-convert');\n",
              "        buttonEl.style.display =\n",
              "          google.colab.kernel.accessAllowed ? 'block' : 'none';\n",
              "\n",
              "        async function convertToInteractive(key) {\n",
              "          const element = document.querySelector('#df-0850ffb7-35b4-4aa3-837a-0bbb1f065781');\n",
              "          const dataTable =\n",
              "            await google.colab.kernel.invokeFunction('convertToInteractive',\n",
              "                                                     [key], {});\n",
              "          if (!dataTable) return;\n",
              "\n",
              "          const docLinkHtml = 'Like what you see? Visit the ' +\n",
              "            '<a target=\"_blank\" href=https://colab.research.google.com/notebooks/data_table.ipynb>data table notebook</a>'\n",
              "            + ' to learn more about interactive tables.';\n",
              "          element.innerHTML = '';\n",
              "          dataTable['output_type'] = 'display_data';\n",
              "          await google.colab.output.renderOutput(dataTable, element);\n",
              "          const docLink = document.createElement('div');\n",
              "          docLink.innerHTML = docLinkHtml;\n",
              "          element.appendChild(docLink);\n",
              "        }\n",
              "      </script>\n",
              "    </div>\n",
              "  </div>\n",
              "  "
            ]
          },
          "metadata": {},
          "execution_count": 72
        }
      ],
      "source": [
        "true.describe()"
      ]
    },
    {
      "cell_type": "code",
      "execution_count": null,
      "id": "99b12b0b",
      "metadata": {
        "id": "99b12b0b",
        "outputId": "8dc7e282-6d82-4d36-eb83-109f25edc311",
        "colab": {
          "base_uri": "https://localhost:8080/"
        }
      },
      "outputs": [
        {
          "output_type": "stream",
          "name": "stdout",
          "text": [
            "Fake news length after duplicate removal: 17455\n",
            "True news length after duplicate removal: 21191\n"
          ]
        }
      ],
      "source": [
        "# remove duplicates\n",
        "corpus = corpus.drop_duplicates(subset = [\"text\"])\n",
        "\n",
        "fake = corpus[corpus[\"Fake\"]==1]\n",
        "print(\"Fake news length after duplicate removal:\",len(fake))\n",
        "true = corpus[corpus[\"Fake\"]==0]\n",
        "print(\"True news length after duplicate removal:\",len(true))\n",
        "# --> almost nothing filtered from true while fake news were reduced drastically."
      ]
    },
    {
      "cell_type": "code",
      "execution_count": null,
      "metadata": {
        "id": "42939103",
        "colab": {
          "base_uri": "https://localhost:8080/"
        },
        "outputId": "8f6f8c59-5fd4-4abb-cbfb-407d1b81185c"
      },
      "outputs": [
        {
          "output_type": "execute_result",
          "data": {
            "text/plain": [
              "array([  152,   152,   156, ..., 21559, 21661, 29781])"
            ]
          },
          "metadata": {},
          "execution_count": 76
        }
      ],
      "source": [
        "# text length distribution per class\n",
        "fake_lengths = [len(text) for text in fake[\"text\"]]\n",
        "true_lengths = [len(text) for text in true[\"text\"]]\n",
        "np.sort(true_lengths)"
      ],
      "id": "42939103"
    },
    {
      "cell_type": "code",
      "execution_count": null,
      "metadata": {
        "id": "3ab74dc0",
        "colab": {
          "base_uri": "https://localhost:8080/",
          "height": 281
        },
        "outputId": "4b189ad8-e900-4bd3-bc85-a71d28f139f1"
      },
      "outputs": [
        {
          "output_type": "display_data",
          "data": {
            "text/plain": [
              "<Figure size 432x288 with 1 Axes>"
            ],
            "image/png": "[encoded data removed]"
          },
          "metadata": {
            "needs_background": "light"
          }
        }
      ],
      "source": [
        "# plot text length distribution per class - bar chart\n",
        "kwargs = dict(alpha=0.5, bins=100)\n",
        "\n",
        "plt.hist(fake_lengths, **kwargs, color='r', label='Fake')\n",
        "plt.hist(true_lengths, **kwargs, color='b', label='True')\n",
        "plt.gca().set(title='Text length', ylabel='Frequency')\n",
        "plt.legend();\n",
        "#plt.savefig('Text_lentgh_distribution.png', bbox_inches='tight')"
      ],
      "id": "3ab74dc0"
    },
    {
      "cell_type": "code",
      "execution_count": null,
      "metadata": {
        "scrolled": true,
        "id": "2e7bfe3a",
        "colab": {
          "base_uri": "https://localhost:8080/",
          "height": 351
        },
        "outputId": "377f2fd7-d691-421a-88db-380be92886de"
      },
      "outputs": [
        {
          "output_type": "stream",
          "name": "stderr",
          "text": [
            "/usr/local/lib/python3.7/dist-packages/seaborn/_decorators.py:43: FutureWarning: Pass the following variables as keyword args: x, y. From version 0.12, the only valid positional argument will be `data`, and passing other arguments without an explicit keyword will result in an error or misinterpretation.\n",
            "  FutureWarning\n"
          ]
        },
        {
          "output_type": "execute_result",
          "data": {
            "text/plain": [
              "<matplotlib.axes._subplots.AxesSubplot at 0x7fd8a1f22f50>"
            ]
          },
          "metadata": {},
          "execution_count": 13
        },
        {
          "output_type": "display_data",
          "data": {
            "text/plain": [
              "<Figure size 432x288 with 1 Axes>"
            ],
            "image/png": "[encoded data removed]"
          },
          "metadata": {
            "needs_background": "light"
          }
        }
      ],
      "source": [
        "# plot text length distribution per class - boxplot\n",
        "temp = pd.DataFrame({\"length\":fake_lengths+true_lengths,\"type\":[\"Fake\" for i in range(len(fake_lengths))]+[\"True\" for i in range(len(true_lengths))]})\n",
        "sns.boxplot(temp[\"length\"],temp[\"type\"])\n"
      ],
      "id": "2e7bfe3a"
    },
    {
      "cell_type": "markdown",
      "id": "63f36af6",
      "metadata": {
        "id": "63f36af6"
      },
      "source": [
        "## Preprocessing"
      ]
    },
    {
      "cell_type": "code",
      "source": [
        "# remove stopwords\n",
        "fake_destopped = [remove_stopwords(strip_punctuation(text)) for text in fake[\"text\"]]\n",
        "true_destopped = [remove_stopwords(strip_punctuation(text)) for text in true[\"text\"]]\n",
        "\n",
        "corpus_destopped = fake_destopped + true_destopped"
      ],
      "metadata": {
        "id": "3ZuN1GLUNAg9"
      },
      "id": "3ZuN1GLUNAg9",
      "execution_count": null,
      "outputs": []
    },
    {
      "cell_type": "code",
      "execution_count": null,
      "id": "8bf4f26f",
      "metadata": {
        "id": "8bf4f26f"
      },
      "outputs": [],
      "source": [
        "# Sent Tokenization\n",
        "\n",
        "# with stopwords\n",
        "fake_sent_tokens_sw = [sent_tokenize(text) for text in fake[\"text\"]]\n",
        "true_sent_tokens_sw = [sent_tokenize(text) for text in true[\"text\"]]\n",
        "\n",
        "# without stopwords\n",
        "fake_sent_tokens = [[remove_stopwords(strip_punctuation(sent)) for sent in text] for text in fake_sent_tokens_sw]\n",
        "true_sent_tokens = [[remove_stopwords(strip_punctuation(sent)) for sent in text] for text in true_sent_tokens_sw]"
      ]
    },
    {
      "cell_type": "code",
      "execution_count": null,
      "id": "52228ed7",
      "metadata": {
        "id": "52228ed7"
      },
      "outputs": [],
      "source": [
        "# Word Tokenization \n",
        "\n",
        "# with stopwords\n",
        "true_word_tokens_sw = [word_tokenize(text) for text in true[\"text\"]]\n",
        "\n",
        "# a lot of twitter posts in fake data --> use casual tokenizer to get rid of twitter handles and if existent two many repeating chars\n",
        "tknzr = TweetTokenizer(strip_handles=True, reduce_len=True)\n",
        "fake_word_tokens_sw = [tknzr.tokenize(text) for text in fake[\"text\"]]\n",
        "\n",
        "\n",
        "# without stopwords\n",
        "true_word_tokens = [word_tokenize(text) for text in true_destopped]\n",
        "\n",
        "# a lot of twitter posts in fake data --> use casual tokenizer to get rid of twitter handles and if existent two many repeating chars\n",
        "tknzr = TweetTokenizer(strip_handles=True, reduce_len=True)\n",
        "fake_word_tokens = [tknzr.tokenize(text) for text in fake_destopped]"
      ]
    },
    {
      "cell_type": "code",
      "source": [
        "# Lemmatization \n",
        "\n",
        "# with stopwords\n",
        "lm = WordNetLemmatizer()\n",
        "fake_word_tokens_lem_sw = [[lm.lemmatize(token) for token in text] for text in fake_word_tokens_sw]\n",
        "true_word_tokens_lem_sw = [[lm.lemmatize(token) for token in text] for text in true_word_tokens_sw]\n",
        "\n",
        "fake_lem_concat_sw = [\" \".join(text) for text in fake_word_tokens_lem_sw]\n",
        "true_lem_concat_sw = [\" \".join(text) for text in true_word_tokens_lem_sw]\n",
        "\n",
        "corpus_lem_sw = fake_lem_concat_sw + true_lem_concat_sw\n",
        "\n",
        "# without stopwords\n",
        "lm = WordNetLemmatizer()\n",
        "fake_word_tokens_lem = [[lm.lemmatize(token) for token in text] for text in fake_word_tokens]\n",
        "true_word_tokens_lem = [[lm.lemmatize(token) for token in text] for text in true_word_tokens]\n",
        "\n",
        "fake_lem_concat = [\" \".join(text) for text in fake_word_tokens_lem]\n",
        "true_lem_concat = [\" \".join(text) for text in true_word_tokens_lem]\n",
        "\n",
        "corpus_lem = fake_lem_concat + true_lem_concat"
      ],
      "metadata": {
        "id": "_6UaT2tVNY6u"
      },
      "id": "_6UaT2tVNY6u",
      "execution_count": null,
      "outputs": []
    },
    {
      "cell_type": "code",
      "source": [
        "# Downsample data\n",
        "\n",
        "# with stopwords\n",
        "fake_df_sw = pd.DataFrame({\"text\":fake_lem_concat_sw,\"fake\":fake[\"fake\"]})\n",
        "true_df_sw = pd.DataFrame({\"text\":true_lem_concat_sw,\"fake\":true[\"fake\"]})\n",
        "\n",
        "print(\"True dataset (with stopwords) size before Downsampling:\",len(true_df_sw))\n",
        "true_df_downsampled_sw = true_df_sw.sample(fake_df_sw.shape[0])\n",
        "print(\"Fake dataset (with stopwords) size:\",len(fake_df_sw))\n",
        "print(\"True dataset (with stopwords) size after Downsampling:\",len(true_df_downsampled_sw))\n",
        "corpus_balanced_sw = pd.concat([true_df_downsampled_sw, fake_df_sw])\n",
        "print(\"Total corpus (with stopwords) length after downsampling:\",len(corpus_balanced_sw))\n",
        "\n",
        "# without stopwords\n",
        "fake_df = pd.DataFrame({\"text\":fake_lem_concat,\"fake\":fake[\"fake\"]})\n",
        "true_df = pd.DataFrame({\"text\":true_lem_concat,\"fake\":true[\"fake\"]})\n",
        "\n",
        "print(\"True dataset (with stopwords) size before Downsampling:\",len(true_df))\n",
        "true_df_downsampled = true_df.sample(fake_df.shape[0])\n",
        "print(\"Fake dataset (with stopwords) size:\",len(fake_df))\n",
        "print(\"True dataset (with stopwords) size after Downsampling:\",len(true_df_downsampled))\n",
        "corpus_balanced = pd.concat([true_df_downsampled, fake_df])\n",
        "print(\"Total corpus (with stopwords) length after downsampling:\",len(corpus_balanced))"
      ],
      "metadata": {
        "id": "XqHX6z7GiM-B"
      },
      "execution_count": null,
      "outputs": [],
      "id": "XqHX6z7GiM-B"
    },
    {
      "cell_type": "markdown",
      "source": [
        "## Analysis"
      ],
      "metadata": {
        "id": "0BL5yr5SNr3z"
      },
      "id": "0BL5yr5SNr3z"
    },
    {
      "cell_type": "markdown",
      "id": "ecf8b060",
      "metadata": {
        "id": "ecf8b060"
      },
      "source": [
        "### Most frequent n-grams for each class\n",
        "taken from https://github.com/Christophe-pere/Text-classification/blob/master/Text_Classification.ipynb"
      ]
    },
    {
      "cell_type": "markdown",
      "source": [
        "#### General Functions"
      ],
      "metadata": {
        "id": "zd9itpFUGtam"
      },
      "id": "zd9itpFUGtam"
    },
    {
      "cell_type": "code",
      "execution_count": null,
      "id": "4e8be494",
      "metadata": {
        "id": "4e8be494"
      },
      "outputs": [],
      "source": [
        "def get_top_n_words(corpus, n=None):\n",
        "        '''\n",
        "        Function to return a list of most frequent unigrams in documents\n",
        "        @param corpus: (str or pandas.dataframe) documents \n",
        "        @param n: (int) number of most frequent unigrams\n",
        "        @return: (list) most frequent unigrams\n",
        "        '''\n",
        "        vec = TfidfVectorizer().fit(corpus)             # bag of words\n",
        "        bag_of_words = vec.transform(corpus)\n",
        "        mean_words = bag_of_words.mean(axis=0) \n",
        "        words_freq = [(word, mean_words[0,idx]) for word, idx in vec.vocabulary_.items()]\n",
        "        words_freq =sorted(words_freq, key = lambda x: x[1], reverse=True)\n",
        "        return words_freq[:n]"
      ]
    },
    {
      "cell_type": "code",
      "execution_count": null,
      "id": "86e494cb",
      "metadata": {
        "id": "86e494cb"
      },
      "outputs": [],
      "source": [
        "def get_top_n_bigram(corpus, n=None):\n",
        "        '''\n",
        "        Function to return a list of most frequent bigrams in documents\n",
        "        @param corpus: (str or pandas.dataframe) documents \n",
        "        @param n: (int) number of most frequent unigrams\n",
        "        @return: (list) most frequent unigrams\n",
        "        '''\n",
        "        vec = TfidfVectorizer(ngram_range=(2, 2)).fit(corpus) \n",
        "        bag_of_words = vec.transform(corpus)\n",
        "        mean_words = bag_of_words.mean(axis=0) \n",
        "        words_freq = [(word, mean_words[0, idx]) for word, idx in vec.vocabulary_.items()]\n",
        "        words_freq =sorted(words_freq, key = lambda x: x[1], reverse=True)\n",
        "        return words_freq[:n]"
      ]
    },
    {
      "cell_type": "code",
      "execution_count": null,
      "id": "6c9dbc11",
      "metadata": {
        "id": "6c9dbc11"
      },
      "outputs": [],
      "source": [
        "def get_top_n_trigram(corpus, n=None):\n",
        "        '''\n",
        "        Function to return a list of most frequent trigrams in documents\n",
        "        @param corpus: (str or pandas.dataframe) documents \n",
        "        @param n: (int) number of most frequent unigrams\n",
        "        @return: (list) most frequent unigrams\n",
        "        '''\n",
        "        vec = TfidfVectorizer(ngram_range=(3, 3)).fit(corpus)\n",
        "        bag_of_words = vec.transform(corpus)\n",
        "        mean_words = bag_of_words.mean(axis=0) \n",
        "        words_freq = [(word, mean_words[0, idx]) for word, idx in vec.vocabulary_.items()]\n",
        "        words_freq =sorted(words_freq, key = lambda x: x[1], reverse=True)\n",
        "        return words_freq[:n]\n"
      ]
    },
    {
      "cell_type": "code",
      "execution_count": null,
      "id": "a19ec805",
      "metadata": {
        "id": "a19ec805"
      },
      "outputs": [],
      "source": [
        "def plot_top_word_freq(df,title):\n",
        "    plt.figure(figsize=(10,6))\n",
        "    plt.barh(df1[\"words\"][::-1], df1[\"count\"][::-1], color=\"tab:orange\")\n",
        "    plt.ylabel(\"Words\")\n",
        "    plt.xlabel(\"Average Frequency\")\n",
        "    plt.title(title)\n",
        "    plt.grid(True,axis=\"x\")\n",
        "    #plt.savefig('Trigram_Avg_Freq_True.png', bbox_inches='tight')"
      ]
    },
    {
      "cell_type": "markdown",
      "id": "ceae70de",
      "metadata": {
        "id": "ceae70de"
      },
      "source": [
        "#### Unigrams"
      ]
    },
    {
      "cell_type": "code",
      "execution_count": null,
      "id": "e48745e0",
      "metadata": {
        "id": "e48745e0"
      },
      "outputs": [],
      "source": [
        "# get Top 20 words frequencies for Fake news including stopwords \n",
        "common_words = get_top_n_words(fake[\"text\"], 20)\n",
        "df1 = pd.DataFrame(common_words, columns = ['words' , 'count'])"
      ]
    },
    {
      "cell_type": "code",
      "execution_count": null,
      "id": "cbaa2a52",
      "metadata": {
        "id": "cbaa2a52"
      },
      "outputs": [],
      "source": [
        "# plot Top 20 words frequencies\n",
        "plot_top_word_freq(df1,\"Top 20 words in Fake News before removing stopwords\")"
      ]
    },
    {
      "cell_type": "code",
      "execution_count": null,
      "id": "7b730150",
      "metadata": {
        "id": "7b730150"
      },
      "outputs": [],
      "source": [
        "# get Top 20 words frequencies for True news including stopwords \n",
        "common_words = get_top_n_words(true[\"text\"], 20)\n",
        "df1 = pd.DataFrame(common_words, columns = ['words' , 'count'])"
      ]
    },
    {
      "cell_type": "code",
      "execution_count": null,
      "id": "6320ad5a",
      "metadata": {
        "id": "6320ad5a"
      },
      "outputs": [],
      "source": [
        "# plot Top 20 words frequencies\n",
        "plot_top_word_freq(df1,\"Top 20 words in True News before removing stopwords\")"
      ]
    },
    {
      "cell_type": "code",
      "execution_count": null,
      "id": "72fca7ee",
      "metadata": {
        "id": "72fca7ee"
      },
      "outputs": [],
      "source": [
        "# get Top 20 words frequencies for Fake news without stopwords \n",
        "common_words_destopped = get_top_n_words(fake_destopped, 20)\n",
        "df1 = pd.DataFrame(common_words_destopped, columns = ['words' , 'count'])"
      ]
    },
    {
      "cell_type": "code",
      "execution_count": null,
      "id": "f4af5025",
      "metadata": {
        "id": "f4af5025",
        "colab": {
          "base_uri": "https://localhost:8080/",
          "height": 404
        },
        "outputId": "a1864212-509a-48cc-fd38-3773cbb267d0"
      },
      "outputs": [
        {
          "output_type": "display_data",
          "data": {
            "text/plain": [
              "<Figure size 720x432 with 1 Axes>"
            ],
            "image/png": "[encoded data removed]"
          },
          "metadata": {
            "needs_background": "light"
          }
        }
      ],
      "source": [
        "# plot Top 20 words frequencies\n",
        "plot_top_word_freq(df1,\"Top 20 words in Fake News after removing stopwords\")"
      ]
    },
    {
      "cell_type": "code",
      "execution_count": null,
      "id": "487066eb",
      "metadata": {
        "scrolled": true,
        "id": "487066eb"
      },
      "outputs": [],
      "source": [
        "# get Top 20 words frequencies for Fake news without stopwords \n",
        "common_words_destopped = get_top_n_words(true_destopped, 20)\n",
        "df1 = pd.DataFrame(common_words_destopped, columns = ['words' , 'count'])"
      ]
    },
    {
      "cell_type": "code",
      "execution_count": null,
      "id": "fcd3404c",
      "metadata": {
        "scrolled": true,
        "id": "fcd3404c",
        "colab": {
          "base_uri": "https://localhost:8080/",
          "height": 404
        },
        "outputId": "c51df485-c693-4f5a-caba-1d7c1e9b8860"
      },
      "outputs": [
        {
          "output_type": "display_data",
          "data": {
            "text/plain": [
              "<Figure size 720x432 with 1 Axes>"
            ],
            "image/png": "[encoded data removed]"
          },
          "metadata": {
            "needs_background": "light"
          }
        }
      ],
      "source": [
        "# plot Top 20 words frequencies\n",
        "plot_top_word_freq(df1,\"Top 20 words in True News after removing stopwords\")"
      ]
    },
    {
      "cell_type": "markdown",
      "id": "6abcffe2",
      "metadata": {
        "id": "6abcffe2"
      },
      "source": [
        "#### Bigrams"
      ]
    },
    {
      "cell_type": "code",
      "execution_count": null,
      "id": "b9ba7e8e",
      "metadata": {
        "id": "b9ba7e8e"
      },
      "outputs": [],
      "source": [
        "# get Top 20 bigrams frequencies for Fake news including stopwords \n",
        "common_words = get_top_n_bigram(fake[\"text\"], 20)\n",
        "df1 = pd.DataFrame(common_words, columns = ['words' , 'count'])"
      ]
    },
    {
      "cell_type": "code",
      "execution_count": null,
      "id": "cb67102f",
      "metadata": {
        "id": "cb67102f"
      },
      "outputs": [],
      "source": [
        "# plot Top 20 bigram frequencies\n",
        "plot_top_word_freq(df1,\"Top 20 bigrams in Fake News before removing stopwords\")"
      ]
    },
    {
      "cell_type": "code",
      "execution_count": null,
      "id": "b8821c9a",
      "metadata": {
        "id": "b8821c9a"
      },
      "outputs": [],
      "source": [
        "# get Top 20 bigrams frequencies for True news including stopwords \n",
        "common_words = get_top_n_bigram(true[\"text\"], 20)\n",
        "df1 = pd.DataFrame(common_words, columns = ['words' , 'count'])"
      ]
    },
    {
      "cell_type": "code",
      "execution_count": null,
      "id": "b90fc355",
      "metadata": {
        "id": "b90fc355"
      },
      "outputs": [],
      "source": [
        "# plot Top 20 bigram frequencies\n",
        "plot_top_word_freq(df1,\"Top 20 bigrams in True News before removing stopwords\")"
      ]
    },
    {
      "cell_type": "code",
      "execution_count": null,
      "id": "b4b40ddb",
      "metadata": {
        "id": "b4b40ddb"
      },
      "outputs": [],
      "source": [
        "# get Top 20 bigrams frequencies for Fake news without stopwords \n",
        "common_words_destopped = get_top_n_bigram(fake_destopped, 20)\n",
        "df1 = pd.DataFrame(common_words_destopped, columns = ['words' , 'count'])"
      ]
    },
    {
      "cell_type": "code",
      "execution_count": null,
      "id": "1e5c6d2a",
      "metadata": {
        "id": "1e5c6d2a",
        "colab": {
          "base_uri": "https://localhost:8080/",
          "height": 404
        },
        "outputId": "4e58d230-f358-4600-8baf-1cb82bf2cc08"
      },
      "outputs": [
        {
          "output_type": "display_data",
          "data": {
            "text/plain": [
              "<Figure size 720x432 with 1 Axes>"
            ],
            "image/png": "[encoded data removed]"
          },
          "metadata": {
            "needs_background": "light"
          }
        }
      ],
      "source": [
        "# plot Top 20 bigram frequencies\n",
        "plot_top_word_freq(df1,\"Top 20 bigrams in Fake News after removing stopwords\")"
      ]
    },
    {
      "cell_type": "code",
      "execution_count": null,
      "id": "3cfa75ea",
      "metadata": {
        "scrolled": true,
        "id": "3cfa75ea"
      },
      "outputs": [],
      "source": [
        "# get Top 20 bigrams frequencies for True news without stopwords \n",
        "common_words_destopped = get_top_n_bigram(true_destopped, 20)\n",
        "df1 = pd.DataFrame(common_words_destopped, columns = ['words' , 'count'])"
      ]
    },
    {
      "cell_type": "code",
      "execution_count": null,
      "id": "b4f1c3e2",
      "metadata": {
        "scrolled": true,
        "id": "b4f1c3e2",
        "colab": {
          "base_uri": "https://localhost:8080/",
          "height": 404
        },
        "outputId": "8fb42a2b-a0d4-47da-b37d-a6f887b961f9"
      },
      "outputs": [
        {
          "output_type": "display_data",
          "data": {
            "text/plain": [
              "<Figure size 720x432 with 1 Axes>"
            ],
            "image/png": "[encoded data removed]"
          },
          "metadata": {
            "needs_background": "light"
          }
        }
      ],
      "source": [
        "# plot Top 20 bigram frequencies\n",
        "plot_top_word_freq(df1,\"Top 20 bigrams in True News after removing stopwords\")"
      ]
    },
    {
      "cell_type": "markdown",
      "id": "a23e79d1",
      "metadata": {
        "id": "a23e79d1"
      },
      "source": [
        "#### Trigram (destopped only)"
      ]
    },
    {
      "cell_type": "code",
      "execution_count": null,
      "id": "d69f8261",
      "metadata": {
        "id": "d69f8261"
      },
      "outputs": [],
      "source": [
        "# get Top 20 trigrams frequencies for Fake news without stopwords\n",
        "common_words_destopped = get_top_n_trigram(fake_destopped, 20)\n",
        "df1 = pd.DataFrame(common_words_destopped, columns = ['words' , 'count'])"
      ]
    },
    {
      "cell_type": "code",
      "execution_count": null,
      "id": "a3292c7f",
      "metadata": {
        "id": "a3292c7f",
        "colab": {
          "base_uri": "https://localhost:8080/",
          "height": 404
        },
        "outputId": "08abffa9-2b80-4e31-8f87-91c4074bee75"
      },
      "outputs": [
        {
          "output_type": "display_data",
          "data": {
            "text/plain": [
              "<Figure size 720x432 with 1 Axes>"
            ],
            "image/png": "[encoded data removed]"
          },
          "metadata": {
            "needs_background": "light"
          }
        }
      ],
      "source": [
        "# plot Top 20 trigram frequencies\n",
        "plot_top_word_freq(df1,\"Top 20 trigrams in Fake News after removing stopwords\")"
      ]
    },
    {
      "cell_type": "code",
      "execution_count": null,
      "id": "32fc221d",
      "metadata": {
        "scrolled": true,
        "id": "32fc221d"
      },
      "outputs": [],
      "source": [
        "# get Top 20 trigrams frequencies for True news without stopwords\n",
        "common_words_destopped = get_top_n_trigram(true_destopped, 20)\n",
        "df1 = pd.DataFrame(common_words_destopped, columns = ['words' , 'count'])"
      ]
    },
    {
      "cell_type": "code",
      "execution_count": null,
      "id": "317cc5e2",
      "metadata": {
        "scrolled": true,
        "id": "317cc5e2",
        "colab": {
          "base_uri": "https://localhost:8080/",
          "height": 404
        },
        "outputId": "d52f6deb-8e5f-4706-8d9e-53f08c68650a"
      },
      "outputs": [
        {
          "output_type": "display_data",
          "data": {
            "text/plain": [
              "<Figure size 720x432 with 1 Axes>"
            ],
            "image/png": "[encoded data removed]"
          },
          "metadata": {
            "needs_background": "light"
          }
        }
      ],
      "source": [
        "# plot Top 20 trigram frequencies\n",
        "plot_top_word_freq(df1,\"Top 20 trigrams in True News after removing stopwords\")"
      ]
    },
    {
      "cell_type": "markdown",
      "id": "1b71a288",
      "metadata": {
        "id": "1b71a288"
      },
      "source": [
        "### POS tagging"
      ]
    },
    {
      "cell_type": "markdown",
      "source": [
        "#### Fake News"
      ],
      "metadata": {
        "id": "br_4ASFMhIQZ"
      },
      "id": "br_4ASFMhIQZ"
    },
    {
      "cell_type": "code",
      "execution_count": null,
      "id": "71cf379b",
      "metadata": {
        "id": "71cf379b"
      },
      "outputs": [],
      "source": [
        "# Load spaCy English model\n",
        "sp = spacy.load('en_core_web_sm')"
      ]
    },
    {
      "cell_type": "code",
      "execution_count": null,
      "id": "d6d85915",
      "metadata": {
        "id": "d6d85915"
      },
      "outputs": [],
      "source": [
        "# convert sentences into spaCy docs\n",
        "#fake_spacy_docs = [[sp(sent) for sent in sentences] for sentences in tqdm(fake_sent_tokens_sw)]\n",
        "#fake_spacy_docs[:1]\n",
        "# spaCy docs are huge for some reason"
      ]
    },
    {
      "cell_type": "code",
      "execution_count": null,
      "id": "855aba3e",
      "metadata": {
        "id": "855aba3e"
      },
      "outputs": [],
      "source": [
        "# convert each spaCy doc into the respective POS tags\n",
        "#fake_pos = [[str(s.pos_) for sent in sentences for s in sent] for sentences in tqdm(fake_spacy_docs)]"
      ]
    },
    {
      "cell_type": "code",
      "execution_count": null,
      "id": "9cac3deb",
      "metadata": {
        "id": "9cac3deb"
      },
      "outputs": [],
      "source": [
        "# save result in order not to run conversion it again\n",
        "#np.save('fake_pos.npy', np.array(fake_pos, dtype=object))"
      ]
    },
    {
      "cell_type": "code",
      "execution_count": null,
      "id": "ffbad636",
      "metadata": {
        "id": "ffbad636"
      },
      "outputs": [],
      "source": [
        "# load tagged array\n",
        "fake_pos = np.load('fake_pos.npy',allow_pickle=True)"
      ]
    },
    {
      "cell_type": "code",
      "source": [
        "# Join tags for each text\n",
        "fake_pos_concat = [\" \".join(tags) for tags in fake_pos]"
      ],
      "metadata": {
        "id": "cs421ywJh7Iq"
      },
      "id": "cs421ywJh7Iq",
      "execution_count": null,
      "outputs": []
    },
    {
      "cell_type": "code",
      "source": [
        "# Calculate POS frequency\n",
        "tfidf_pos = TfidfVectorizer()\n",
        "fake_pos_vec = tfidf_pos.fit_transform(fake_pos_concat)"
      ],
      "metadata": {
        "id": "75debNZ-iIZS"
      },
      "id": "75debNZ-iIZS",
      "execution_count": null,
      "outputs": []
    },
    {
      "cell_type": "code",
      "execution_count": null,
      "id": "83b36275",
      "metadata": {
        "scrolled": true,
        "id": "83b36275",
        "colab": {
          "base_uri": "https://localhost:8080/"
        },
        "outputId": "f3506990-ca2c-4a5a-b861-9ac39427731d"
      },
      "outputs": [
        {
          "output_type": "stream",
          "name": "stderr",
          "text": [
            "/usr/local/lib/python3.7/dist-packages/sklearn/utils/deprecation.py:87: FutureWarning: Function get_feature_names is deprecated; get_feature_names is deprecated in 1.0 and will be removed in 1.2. Please use get_feature_names_out instead.\n",
            "  warnings.warn(msg, category=FutureWarning)\n"
          ]
        }
      ],
      "source": [
        "# Set up DataFrame with tags and average Frequencies\n",
        "tags = tfidf_pos.get_feature_names()\n",
        "pos_avg_frequencies = np.mean(fake_pos_vec.toarray(),axis=0)\n",
        "df1 = pd.DataFrame({\"POS\":tags, \"Frequency\":pos_avg_frequencies})\n",
        "df1 = df1.sort_values(\"Frequency\",ascending=False)"
      ]
    },
    {
      "cell_type": "code",
      "execution_count": null,
      "id": "fc79175e",
      "metadata": {
        "id": "fc79175e",
        "colab": {
          "base_uri": "https://localhost:8080/",
          "height": 412
        },
        "outputId": "5ef38f01-309a-4e77-d091-8f2815998221"
      },
      "outputs": [
        {
          "output_type": "display_data",
          "data": {
            "text/plain": [
              "<Figure size 720x432 with 1 Axes>"
            ],
            "image/png": "[encoded data removed]"
          },
          "metadata": {
            "needs_background": "light"
          }
        }
      ],
      "source": [
        "# Plot average POS tag frequencies for Fake data\n",
        "plt.figure(figsize=(10,6))\n",
        "plt.barh(df1[\"POS\"][::-1], df1[\"Frequency\"][::-1])\n",
        "plt.ylabel(\"POS\",fontsize=14)\n",
        "plt.xlabel(\"Average Frequency\",fontsize=14)\n",
        "plt.title(\"Average POS tag Frequency in Fake News\",fontsize=18)\n",
        "plt.grid(True, axis='x')\n",
        "#plt.savefig('Avg_POS_Freq_Fake.png', bbox_inches='tight')"
      ]
    },
    {
      "cell_type": "markdown",
      "source": [
        "#### True News"
      ],
      "metadata": {
        "id": "X6CMnHWFhNh1"
      },
      "id": "X6CMnHWFhNh1"
    },
    {
      "cell_type": "code",
      "execution_count": null,
      "id": "f7029e15",
      "metadata": {
        "id": "f7029e15"
      },
      "outputs": [],
      "source": [
        "# load tagged array\n",
        "true_pos = np.load('true_pos.npy',allow_pickle=True)"
      ]
    },
    {
      "cell_type": "code",
      "source": [
        "# Join tags for each text\n",
        "true_pos_concat = [\" \".join(tags) for tags in true_pos]"
      ],
      "metadata": {
        "id": "9ZjuH1hUmuj0"
      },
      "execution_count": null,
      "outputs": [],
      "id": "9ZjuH1hUmuj0"
    },
    {
      "cell_type": "code",
      "source": [
        "# Calculate POS frequency\n",
        "tfidf_pos = TfidfVectorizer()\n",
        "true_pos_vec = tfidf_pos.fit_transform(true_pos_concat)"
      ],
      "metadata": {
        "id": "IsfBYmF9muj9"
      },
      "execution_count": null,
      "outputs": [],
      "id": "IsfBYmF9muj9"
    },
    {
      "cell_type": "code",
      "execution_count": null,
      "metadata": {
        "scrolled": true,
        "colab": {
          "base_uri": "https://localhost:8080/"
        },
        "id": "9Z1JlmVBmuj9",
        "outputId": "46ece39f-4ae2-41ad-a7b9-b2a1502981b6"
      },
      "outputs": [
        {
          "output_type": "stream",
          "name": "stderr",
          "text": [
            "/usr/local/lib/python3.7/dist-packages/sklearn/utils/deprecation.py:87: FutureWarning: Function get_feature_names is deprecated; get_feature_names is deprecated in 1.0 and will be removed in 1.2. Please use get_feature_names_out instead.\n",
            "  warnings.warn(msg, category=FutureWarning)\n"
          ]
        }
      ],
      "source": [
        "# Set up DataFrame with tags and average Frequencies\n",
        "tags = tfidf_pos.get_feature_names()\n",
        "pos_avg_frequencies = np.mean(true_pos_vec.toarray(),axis=0)\n",
        "df1 = pd.DataFrame({\"POS\":tags, \"Frequency\":pos_avg_frequencies})\n",
        "df1 = df1.sort_values(\"Frequency\",ascending=False)"
      ],
      "id": "9Z1JlmVBmuj9"
    },
    {
      "cell_type": "code",
      "execution_count": null,
      "metadata": {
        "colab": {
          "base_uri": "https://localhost:8080/",
          "height": 412
        },
        "outputId": "95743c5b-2000-4674-80d8-44abbb662a9e",
        "id": "uYQM_JzXmuj-"
      },
      "outputs": [
        {
          "output_type": "display_data",
          "data": {
            "text/plain": [
              "<Figure size 720x432 with 1 Axes>"
            ],
            "image/png": "[encoded data removed]"
          },
          "metadata": {
            "needs_background": "light"
          }
        }
      ],
      "source": [
        "# Plot average POS tag frequencies for True data\n",
        "plt.figure(figsize=(10,6))\n",
        "plt.barh(df1[\"POS\"][::-1], df1[\"Frequency\"][::-1], color=\"tab:orange\")\n",
        "plt.ylabel(\"POS\",fontsize=14)\n",
        "plt.xlabel(\"Average Frequency\",fontsize=14)\n",
        "plt.title(\"Average POS tag Frequency in True News\",fontsize=18)\n",
        "plt.grid(True, axis=\"x\")\n",
        "#plt.savefig('Avg_POS_Freq_True.png', bbox_inches='tight')"
      ],
      "id": "uYQM_JzXmuj-"
    },
    {
      "cell_type": "markdown",
      "id": "04338fe1",
      "metadata": {
        "id": "04338fe1"
      },
      "source": [
        "### t-SNE\n",
        "taken from https://www.scikit-yb.org/en/latest/api/text/tsne.html"
      ]
    },
    {
      "cell_type": "markdown",
      "source": [
        "#### General function"
      ],
      "metadata": {
        "id": "CXvVwUjpJ_sH"
      },
      "id": "CXvVwUjpJ_sH"
    },
    {
      "cell_type": "code",
      "execution_count": null,
      "metadata": {
        "id": "4687510e"
      },
      "outputs": [],
      "source": [
        "# Utility function to visualize the outputs of t-SNE\n",
        "\n",
        "def cluster_scatter(x, colors):\n",
        "    # choose a color palette with seaborn.\n",
        "    num_classes = len(np.unique(colors))\n",
        "    palette = np.array(sns.color_palette(\"hls\", num_classes))\n",
        "\n",
        "    # create a scatter plot.\n",
        "    f = plt.figure(figsize=(8, 8))\n",
        "    ax = plt.subplot(aspect='equal')\n",
        "    sc = ax.scatter(x[:,0], x[:,1], lw=0, s=40, c=palette[colors.astype(int)], alpha=0.6)\n",
        "    plt.title(\"t-SNE clusters after stopword removal\",fontsize=18)\n",
        "    plt.xlim(-25, 25)\n",
        "    plt.ylim(-25, 25)\n",
        "    ax.axis('off')\n",
        "    ax.axis('tight')\n",
        "\n",
        "    # add the labels for each digit corresponding to the label\n",
        "    txts = []\n",
        "\n",
        "    for i in range(num_classes):\n",
        "\n",
        "        # Position of each label at median of data points.\n",
        "        xtext, ytext = np.median(x[colors == i, :], axis=0)\n",
        "        label = \"Fake\"\n",
        "        if i==1:\n",
        "            label = \"True\"\n",
        "        txt = ax.text(xtext, ytext, label, fontsize=24)\n",
        "        txt.set_path_effects([\n",
        "            PathEffects.Stroke(linewidth=2, foreground=\"w\"),\n",
        "            PathEffects.Normal()])\n",
        "        txts.append(txt)\n",
        "    \n",
        "    #plt.savefig('tsne_clusters.png', bbox_inches='tight')\n",
        "    plt.show()\n",
        "    return"
      ],
      "id": "4687510e"
    },
    {
      "cell_type": "markdown",
      "source": [
        "#### With Stopwords"
      ],
      "metadata": {
        "id": "PxEP9bxjoIM7"
      },
      "id": "PxEP9bxjoIM7"
    },
    {
      "cell_type": "code",
      "execution_count": null,
      "id": "ea53b086",
      "metadata": {
        "id": "ea53b086"
      },
      "outputs": [],
      "source": [
        "# vectorize corpus\n",
        "corpus_vec_sw = TfidfVectorizer().fit_transform(corpus_lem_sw)"
      ]
    },
    {
      "cell_type": "code",
      "execution_count": null,
      "id": "a22af391",
      "metadata": {
        "id": "a22af391"
      },
      "outputs": [],
      "source": [
        "# first step dimensionality reduction with SVM -> 50 components\n",
        "corpus_reduced_sw = TruncatedSVD(n_components=50).fit_transform(corpus_vec_sw)"
      ]
    },
    {
      "cell_type": "code",
      "execution_count": null,
      "id": "139964bd",
      "metadata": {
        "id": "139964bd",
        "colab": {
          "base_uri": "https://localhost:8080/"
        },
        "outputId": "1692ce67-3627-42a1-d2a2-5c838c7f8f8b"
      },
      "outputs": [
        {
          "output_type": "execute_result",
          "data": {
            "text/plain": [
              "(38646, 50)"
            ]
          },
          "metadata": {},
          "execution_count": 78
        }
      ],
      "source": [
        "corpus_reduced_sw.shape"
      ]
    },
    {
      "cell_type": "code",
      "execution_count": null,
      "id": "102b666c",
      "metadata": {
        "id": "102b666c",
        "colab": {
          "base_uri": "https://localhost:8080/"
        },
        "outputId": "30f455e6-b736-4dc2-f981-c7d3058f2903"
      },
      "outputs": [
        {
          "output_type": "stream",
          "name": "stderr",
          "text": [
            "/usr/local/lib/python3.7/dist-packages/sklearn/manifold/_t_sne.py:783: FutureWarning: The default initialization in TSNE will change from 'random' to 'pca' in 1.2.\n",
            "  FutureWarning,\n",
            "/usr/local/lib/python3.7/dist-packages/sklearn/manifold/_t_sne.py:793: FutureWarning: The default learning rate in TSNE will change from 200.0 to 'auto' in 1.2.\n",
            "  FutureWarning,\n"
          ]
        }
      ],
      "source": [
        "# second step dimensionality reduction with tsne --> 2 components\n",
        "corpus_reduced_sw = TSNE(n_components=2).fit_transform(corpus_reduced_sw)"
      ]
    },
    {
      "cell_type": "code",
      "execution_count": null,
      "id": "905cc073",
      "metadata": {
        "id": "905cc073"
      },
      "outputs": [],
      "source": [
        "#np.save('tsne_corpus_sw.npy', np.array(corpus_reduced_sw, dtype=object))"
      ]
    },
    {
      "cell_type": "code",
      "source": [
        "corpus_reduced_sw = np.load('tsne_corpus_sw.npy',allow_pickle=True)"
      ],
      "metadata": {
        "id": "0LHei-h-7TrW"
      },
      "id": "0LHei-h-7TrW",
      "execution_count": null,
      "outputs": []
    },
    {
      "cell_type": "code",
      "execution_count": null,
      "id": "8efd07f2",
      "metadata": {
        "id": "8efd07f2",
        "colab": {
          "base_uri": "https://localhost:8080/"
        },
        "outputId": "6ff6a37a-43d2-45b3-e313-28116121530b"
      },
      "outputs": [
        {
          "output_type": "execute_result",
          "data": {
            "text/plain": [
              "(38646, 2)"
            ]
          },
          "metadata": {},
          "execution_count": 99
        }
      ],
      "source": [
        "corpus_reduced_sw.shape"
      ]
    },
    {
      "cell_type": "code",
      "execution_count": null,
      "id": "7b047c10",
      "metadata": {
        "id": "7b047c10",
        "colab": {
          "base_uri": "https://localhost:8080/",
          "height": 486
        },
        "outputId": "db91b3e4-fcf5-473d-86f0-532c0c88ea21"
      },
      "outputs": [
        {
          "output_type": "display_data",
          "data": {
            "text/plain": [
              "<Figure size 576x576 with 1 Axes>"
            ],
            "image/png": "[encoded data removed]"
          },
          "metadata": {
            "needs_background": "light"
          }
        }
      ],
      "source": [
        "# plot clusters to show difference between true and fake texts\n",
        "cluster_scatter(corpus_reduced_sw, np.array(corpus[\"label\"]))"
      ]
    },
    {
      "cell_type": "markdown",
      "source": [
        "#### Without Stopwords"
      ],
      "metadata": {
        "id": "hzMeCCvQpkz8"
      },
      "id": "hzMeCCvQpkz8"
    },
    {
      "cell_type": "code",
      "execution_count": null,
      "metadata": {
        "id": "A_rxGelcpkz9"
      },
      "outputs": [],
      "source": [
        "# vectorize corpus\n",
        "corpus_vec = TfidfVectorizer().fit_transform(corpus_lem)"
      ],
      "id": "A_rxGelcpkz9"
    },
    {
      "cell_type": "code",
      "execution_count": null,
      "metadata": {
        "id": "CtlV2PL2pkz9"
      },
      "outputs": [],
      "source": [
        "# first step dimensionality reduction with SVM -> 50 components\n",
        "corpus_reduced = TruncatedSVD(n_components=50).fit_transform(corpus_vec)"
      ],
      "id": "CtlV2PL2pkz9"
    },
    {
      "cell_type": "code",
      "execution_count": null,
      "metadata": {
        "colab": {
          "base_uri": "https://localhost:8080/"
        },
        "outputId": "39a930d8-288a-4ed9-b653-57de74deddb6",
        "id": "grRDZjfbpkz9"
      },
      "outputs": [
        {
          "output_type": "execute_result",
          "data": {
            "text/plain": [
              "(38646, 50)"
            ]
          },
          "metadata": {},
          "execution_count": 87
        }
      ],
      "source": [
        "corpus_reduced.shape"
      ],
      "id": "grRDZjfbpkz9"
    },
    {
      "cell_type": "code",
      "execution_count": null,
      "metadata": {
        "colab": {
          "base_uri": "https://localhost:8080/"
        },
        "outputId": "ace351c9-2bb4-491a-a5c4-485638066d7d",
        "id": "WNdq2IaGpkz9"
      },
      "outputs": [
        {
          "output_type": "stream",
          "name": "stderr",
          "text": [
            "/usr/local/lib/python3.7/dist-packages/sklearn/manifold/_t_sne.py:783: FutureWarning: The default initialization in TSNE will change from 'random' to 'pca' in 1.2.\n",
            "  FutureWarning,\n",
            "/usr/local/lib/python3.7/dist-packages/sklearn/manifold/_t_sne.py:793: FutureWarning: The default learning rate in TSNE will change from 200.0 to 'auto' in 1.2.\n",
            "  FutureWarning,\n"
          ]
        }
      ],
      "source": [
        "# second step dimensionality reduction with tsne --> 2 components\n",
        "corpus_reduced = TSNE(n_components=2).fit_transform(corpus_reduced)"
      ],
      "id": "WNdq2IaGpkz9"
    },
    {
      "cell_type": "code",
      "execution_count": null,
      "metadata": {
        "id": "E1DxaNDRpkz-"
      },
      "outputs": [],
      "source": [
        "#np.save('tsne_corpus.npy', np.array(corpus_reduced, dtype=object))"
      ],
      "id": "E1DxaNDRpkz-"
    },
    {
      "cell_type": "code",
      "source": [
        "corpus_reduced = np.load('tsne_corpus.npy',allow_pickle=True)"
      ],
      "metadata": {
        "id": "39Q89zdRGy9l"
      },
      "id": "39Q89zdRGy9l",
      "execution_count": null,
      "outputs": []
    },
    {
      "cell_type": "code",
      "execution_count": null,
      "metadata": {
        "colab": {
          "base_uri": "https://localhost:8080/"
        },
        "id": "fCGtJj00pkz-",
        "outputId": "90601c18-1a27-4d59-9ed7-0a525d0677ea"
      },
      "outputs": [
        {
          "output_type": "execute_result",
          "data": {
            "text/plain": [
              "(38646, 2)"
            ]
          },
          "metadata": {},
          "execution_count": 90
        }
      ],
      "source": [
        "corpus_reduced.shape"
      ],
      "id": "fCGtJj00pkz-"
    },
    {
      "cell_type": "code",
      "execution_count": null,
      "metadata": {
        "colab": {
          "base_uri": "https://localhost:8080/",
          "height": 486
        },
        "id": "XZoVf9Zfpkz-",
        "outputId": "0a8ee994-6f06-4e92-b9fb-497380ede21a"
      },
      "outputs": [
        {
          "output_type": "display_data",
          "data": {
            "text/plain": [
              "<Figure size 576x576 with 1 Axes>"
            ],
            "image/png": "[encoded data removed]"
          },
          "metadata": {
            "needs_background": "light"
          }
        }
      ],
      "source": [
        "# plot clusters to show difference between true and fake texts\n",
        "cluster_scatter(corpus_reduced, np.array(corpus[\"label\"]))"
      ],
      "id": "XZoVf9Zfpkz-"
    },
    {
      "cell_type": "markdown",
      "id": "eea58c1e",
      "metadata": {
        "id": "eea58c1e"
      },
      "source": [
        "### LDA"
      ]
    },
    {
      "cell_type": "code",
      "source": [
        "number_of_topics = 3"
      ],
      "metadata": {
        "id": "a8GtZaZeX6O5"
      },
      "id": "a8GtZaZeX6O5",
      "execution_count": null,
      "outputs": []
    },
    {
      "cell_type": "markdown",
      "source": [
        "#### Overall"
      ],
      "metadata": {
        "id": "yDuyMILa8kfk"
      },
      "id": "yDuyMILa8kfk"
    },
    {
      "cell_type": "code",
      "execution_count": null,
      "id": "92359582",
      "metadata": {
        "id": "92359582"
      },
      "outputs": [],
      "source": [
        "# vectorize corpus\n",
        "tfidf_lda = TfidfVectorizer()\n",
        "corpus_vec = tfidf_lda.fit_transform(corpus_lem)"
      ]
    },
    {
      "cell_type": "code",
      "source": [
        "# apply LDA\n",
        "lda_aggregated = LDA(n_components=number_of_topics,random_state=42)\n",
        "corpus_topic_vec = lda_aggregated.fit_transform(corpus_vec)"
      ],
      "metadata": {
        "id": "WmLJLr9uQGYl"
      },
      "id": "WmLJLr9uQGYl",
      "execution_count": null,
      "outputs": []
    },
    {
      "cell_type": "code",
      "source": [
        "# plot Top 10 words for each generated topic\n",
        "for index,topic in enumerate(lda_aggregated.components_):\n",
        "    print(f'THE TOP 10 WORDS FOR TOPIC #{index}')\n",
        "    print([tfidf_lda.get_feature_names()[i] for i in topic.argsort()[-10:]])\n",
        "    print('\\n')"
      ],
      "metadata": {
        "colab": {
          "base_uri": "https://localhost:8080/"
        },
        "id": "gPf2crdVQQDD",
        "outputId": "68d61693-e7fe-4607-d27f-27d298fa57eb"
      },
      "id": "gPf2crdVQQDD",
      "execution_count": null,
      "outputs": [
        {
          "output_type": "stream",
          "name": "stdout",
          "text": [
            "THE TOP 10 WORDS FOR TOPIC #0\n"
          ]
        },
        {
          "output_type": "stream",
          "name": "stderr",
          "text": [
            "/usr/local/lib/python3.7/dist-packages/sklearn/utils/deprecation.py:87: FutureWarning: Function get_feature_names is deprecated; get_feature_names is deprecated in 1.0 and will be removed in 1.2. Please use get_feature_names_out instead.\n",
            "  warnings.warn(msg, category=FutureWarning)\n"
          ]
        },
        {
          "output_type": "stream",
          "name": "stdout",
          "text": [
            "['image', 'like', 'http', 'realdonaldtrump', 'woman', 'video', 'pic', 'com', 'twitter', 'trump']\n",
            "\n",
            "\n",
            "THE TOP 10 WORDS FOR TOPIC #1\n",
            "['election', 'year', 'obama', 'clinton', 'house', 'state', 'republican', 'president', 'said', 'trump']\n",
            "\n",
            "\n",
            "THE TOP 10 WORDS FOR TOPIC #2\n",
            "['turkey', 'china', 'islamic', 'al', 'syrian', 'military', 'iran', 'syria', 'saudi', 'said']\n",
            "\n",
            "\n"
          ]
        }
      ]
    },
    {
      "cell_type": "code",
      "source": [
        "# obtain categories for all texts\n",
        "corpus_categorized = corpus.copy()[[\"text\",\"label\"]]\n",
        "corpus_categorized[\"topic\"] = corpus_topic_vec.argmax(axis=1)"
      ],
      "metadata": {
        "id": "lRIBUTQfQQwA"
      },
      "id": "lRIBUTQfQQwA",
      "execution_count": null,
      "outputs": []
    },
    {
      "cell_type": "code",
      "source": [
        "# get topic IDs and number of texts in the category\n",
        "topics = corpus_categorized.groupby(\"topic\")[\"text\"].count().sort_values(ascending=True).index\n",
        "counts = corpus_categorized.groupby(\"topic\")[\"text\"].count().sort_values(ascending=True)"
      ],
      "metadata": {
        "id": "FglraLw5QTAm"
      },
      "id": "FglraLw5QTAm",
      "execution_count": null,
      "outputs": []
    },
    {
      "cell_type": "code",
      "source": [
        "# show value counts per topic\n",
        "corpus_categorized.groupby([\"topic\",\"label\"])[\"text\"].count().sort_values(ascending=False)"
      ],
      "metadata": {
        "colab": {
          "base_uri": "https://localhost:8080/"
        },
        "id": "5v0k3CIGCQ0u",
        "outputId": "2f3bf101-36f1-4b6c-8d25-418278c15093"
      },
      "id": "5v0k3CIGCQ0u",
      "execution_count": null,
      "outputs": [
        {
          "output_type": "execute_result",
          "data": {
            "text/plain": [
              "topic  label\n",
              "1      1        17508\n",
              "       0        14392\n",
              "2      1         3678\n",
              "0      0         2876\n",
              "2      0          187\n",
              "0      1            5\n",
              "Name: text, dtype: int64"
            ]
          },
          "metadata": {},
          "execution_count": 314
        }
      ]
    },
    {
      "cell_type": "code",
      "source": [
        "# plot count per topic for each class\n",
        "fake_count = [5,3678,17508]\n",
        "true_count = [187,2876,14392]\n",
        "index = topics\n",
        "df = pd.DataFrame({'Fake': fake_count,\n",
        "                   'True': true_count}, index=index)\n",
        "ax = df.plot.barh(rot=0)\n",
        "ax.grid(axis=\"x\")\n",
        "plt.ylabel(\"Topic\")\n",
        "plt.xlabel(\"Number of texts\")\n",
        "#plt.savefig('Topic_counts.png', bbox_inches='tight')"
      ],
      "metadata": {
        "id": "lD2RRjJDQmfG",
        "colab": {
          "base_uri": "https://localhost:8080/",
          "height": 296
        },
        "outputId": "4c43d386-a000-4eae-f2ba-a261f0e1aedd"
      },
      "id": "lD2RRjJDQmfG",
      "execution_count": null,
      "outputs": [
        {
          "output_type": "execute_result",
          "data": {
            "text/plain": [
              "Text(0.5, 0, 'Number of texts')"
            ]
          },
          "metadata": {},
          "execution_count": 316
        },
        {
          "output_type": "display_data",
          "data": {
            "text/plain": [
              "<Figure size 432x288 with 1 Axes>"
            ],
            "image/png": "[encoded data removed]"
          },
          "metadata": {
            "needs_background": "light"
          }
        }
      ]
    },
    {
      "cell_type": "code",
      "source": [
        "# show topic clusters with t-sne\n",
        "palette = np.array(sns.color_palette(\"hls\", number_of_topics))\n",
        "f = plt.figure(figsize=(8, 8))\n",
        "ax = plt.subplot(aspect='equal')\n",
        "sc = ax.scatter(corpus_reduced[:,0], corpus_reduced[:,1], lw=0, s=40, c=palette[np.array(corpus_categorized[\"topic\"]).astype(int)], alpha=0.5)\n",
        "plt.xlim(-25, 25)\n",
        "plt.ylim(-25, 25)\n",
        "ax.axis('off')\n",
        "ax.axis('tight')\n",
        "#plt.savefig('Topic_cluster.png', bbox_inches='tight')"
      ],
      "metadata": {
        "id": "zG2eUxaHQqjU"
      },
      "id": "zG2eUxaHQqjU",
      "execution_count": null,
      "outputs": []
    },
    {
      "cell_type": "markdown",
      "source": [
        "#### Fake News"
      ],
      "metadata": {
        "id": "p84ORynpEO1v"
      },
      "id": "p84ORynpEO1v"
    },
    {
      "cell_type": "code",
      "execution_count": null,
      "metadata": {
        "id": "u6dFL0kzEO1v"
      },
      "outputs": [],
      "source": [
        "# vectorize corpus\n",
        "tfidf_lda = TfidfVectorizer()\n",
        "corpus_vec = tfidf_lda.fit_transform(fake_lem_concat)"
      ],
      "id": "u6dFL0kzEO1v"
    },
    {
      "cell_type": "code",
      "source": [
        "# apply LDA\n",
        "lda_fake = LDA(n_components=number_of_topics,random_state=42)\n",
        "corpus_topic_vec = lda_fake.fit_transform(corpus_vec)"
      ],
      "metadata": {
        "id": "nesHvHgMEO1v"
      },
      "execution_count": null,
      "outputs": [],
      "id": "nesHvHgMEO1v"
    },
    {
      "cell_type": "code",
      "source": [
        "# plot Top 10 words for each generated topic\n",
        "for index,topic in enumerate(lda_fake.components_):\n",
        "    print(f'THE TOP 10 WORDS FOR TOPIC #{index}')\n",
        "    print([tfidf_lda.get_feature_names()[i] for i in topic.argsort()[-10:]])\n",
        "    print('\\n')"
      ],
      "metadata": {
        "colab": {
          "base_uri": "https://localhost:8080/"
        },
        "outputId": "fcdcbd85-8ada-4b06-c988-1d85ff2a4f43",
        "id": "8Ly6JSvMEO1w"
      },
      "execution_count": null,
      "outputs": [
        {
          "output_type": "stream",
          "name": "stdout",
          "text": [
            "THE TOP 10 WORDS FOR TOPIC #0\n"
          ]
        },
        {
          "output_type": "stream",
          "name": "stderr",
          "text": [
            "/usr/local/lib/python3.7/dist-packages/sklearn/utils/deprecation.py:87: FutureWarning: Function get_feature_names is deprecated; get_feature_names is deprecated in 1.0 and will be removed in 1.2. Please use get_feature_names_out instead.\n",
            "  warnings.warn(msg, category=FutureWarning)\n"
          ]
        },
        {
          "output_type": "stream",
          "name": "stdout",
          "text": [
            "['xfbml', 'parentnode', 'insertbefore', 'getelementbyid', 'getelementsbytagname', 'createelement', 'id', 'var', 'cdata', 'fjs']\n",
            "\n",
            "\n",
            "THE TOP 10 WORDS FOR TOPIC #1\n",
            "['hesher', 'tune', 'radio', 'join', 'broadcast', '00', 'room', 'pm', 'acr', 'boiler']\n",
            "\n",
            "\n",
            "THE TOP 10 WORDS FOR TOPIC #2\n",
            "['hillary', 'state', 'donald', 'republican', 'obama', 'people', 'clinton', 'said', 'president', 'trump']\n",
            "\n",
            "\n"
          ]
        }
      ],
      "id": "8Ly6JSvMEO1w"
    },
    {
      "cell_type": "code",
      "source": [
        "# obtain categories for all texts\n",
        "fake_categorized = corpus.copy()[[\"text\",\"label\"]][corpus[\"label\"]==0]\n",
        "fake_categorized[\"topic\"] = corpus_topic_vec.argmax(axis=1)"
      ],
      "metadata": {
        "id": "T91HA1IwEO1w"
      },
      "execution_count": null,
      "outputs": [],
      "id": "T91HA1IwEO1w"
    },
    {
      "cell_type": "code",
      "source": [
        "# get topic IDs and number of texts in the category\n",
        "topics = fake_categorized.groupby(\"topic\")[\"text\"].count().sort_values(ascending=True).index\n",
        "counts = fake_categorized.groupby(\"topic\")[\"text\"].count().sort_values(ascending=True)"
      ],
      "metadata": {
        "id": "2hNpAKIIEO1w"
      },
      "execution_count": null,
      "outputs": [],
      "id": "2hNpAKIIEO1w"
    },
    {
      "cell_type": "code",
      "source": [
        "# show value counts per topic\n",
        "fake_categorized.groupby(\"topic\")[\"text\"].count().sort_values(ascending=False)"
      ],
      "metadata": {
        "colab": {
          "base_uri": "https://localhost:8080/"
        },
        "outputId": "28d46642-7308-4a8a-9274-665dd8e7e788",
        "id": "A3KE8GbtEO1w"
      },
      "execution_count": null,
      "outputs": [
        {
          "output_type": "execute_result",
          "data": {
            "text/plain": [
              "topic\n",
              "2    17333\n",
              "1      101\n",
              "0       21\n",
              "Name: text, dtype: int64"
            ]
          },
          "metadata": {},
          "execution_count": 293
        }
      ],
      "id": "A3KE8GbtEO1w"
    },
    {
      "cell_type": "code",
      "source": [
        "# plot count per topic for Fake data\n",
        "index = topics\n",
        "df = pd.DataFrame({'Counts': counts}, index=index)\n",
        "ax = df.plot.barh(rot=0)\n",
        "ax.grid(axis=\"x\")\n",
        "plt.ylabel(\"Topic\")\n",
        "plt.xlabel(\"Number of texts\")\n",
        "#plt.savefig('Topic_counts.png', bbox_inches='tight')"
      ],
      "metadata": {
        "colab": {
          "base_uri": "https://localhost:8080/",
          "height": 296
        },
        "id": "DVxQIi2jEO1x",
        "outputId": "579617ed-1971-4bc1-dab7-72c00b7aa4fa"
      },
      "execution_count": null,
      "outputs": [
        {
          "output_type": "execute_result",
          "data": {
            "text/plain": [
              "Text(0.5, 0, 'Number of texts')"
            ]
          },
          "metadata": {},
          "execution_count": 294
        },
        {
          "output_type": "display_data",
          "data": {
            "text/plain": [
              "<Figure size 432x288 with 1 Axes>"
            ],
            "image/png": "[encoded data removed]"
          },
          "metadata": {
            "needs_background": "light"
          }
        }
      ],
      "id": "DVxQIi2jEO1x"
    },
    {
      "cell_type": "markdown",
      "source": [
        "could be done per category as well; also could use lemmatized text?"
      ],
      "metadata": {
        "id": "G-16JmRiEO1x"
      },
      "id": "G-16JmRiEO1x"
    },
    {
      "cell_type": "markdown",
      "source": [
        "#### True News"
      ],
      "metadata": {
        "id": "NWGs161wF47x"
      },
      "id": "NWGs161wF47x"
    },
    {
      "cell_type": "code",
      "execution_count": null,
      "metadata": {
        "id": "0TF1aGXKF47y"
      },
      "outputs": [],
      "source": [
        "# vectorize corpus\n",
        "tfidf_lda = TfidfVectorizer()\n",
        "corpus_vec = tfidf_lda.fit_transform(true_lem_concat)"
      ],
      "id": "0TF1aGXKF47y"
    },
    {
      "cell_type": "code",
      "source": [
        "# apply LDA\n",
        "lda_true = LDA(n_components=number_of_topics,random_state=42)\n",
        "corpus_topic_vec = lda_true.fit_transform(corpus_vec)"
      ],
      "metadata": {
        "id": "kE000IcQF47y"
      },
      "execution_count": null,
      "outputs": [],
      "id": "kE000IcQF47y"
    },
    {
      "cell_type": "code",
      "source": [
        "# plot Top 10 words for each generated topic\n",
        "for index,topic in enumerate(lda_true.components_):\n",
        "    print(f'THE TOP 10 WORDS FOR TOPIC #{index}')\n",
        "    print([tfidf_lda.get_feature_names()[i] for i in topic.argsort()[-10:]])\n",
        "    print('\\n')"
      ],
      "metadata": {
        "colab": {
          "base_uri": "https://localhost:8080/"
        },
        "outputId": "a619b3cb-8ac6-4d2c-f9d7-0f8f5a972759",
        "id": "m4ObF8WDF47y"
      },
      "execution_count": null,
      "outputs": [
        {
          "output_type": "stream",
          "name": "stdout",
          "text": [
            "THE TOP 10 WORDS FOR TOPIC #0\n"
          ]
        },
        {
          "output_type": "stream",
          "name": "stderr",
          "text": [
            "/usr/local/lib/python3.7/dist-packages/sklearn/utils/deprecation.py:87: FutureWarning: Function get_feature_names is deprecated; get_feature_names is deprecated in 1.0 and will be removed in 1.2. Please use get_feature_names_out instead.\n",
            "  warnings.warn(msg, category=FutureWarning)\n"
          ]
        },
        {
          "output_type": "stream",
          "name": "stdout",
          "text": [
            "['north', 'russia', 'korea', 'clinton', 'state', 'house', 'president', 'republican', 'said', 'trump']\n",
            "\n",
            "\n",
            "THE TOP 10 WORDS FOR TOPIC #1\n",
            "['minister', 'trump', 'eu', 'party', 'court', 'tax', 'year', 'government', 'state', 'said']\n",
            "\n",
            "\n",
            "THE TOP 10 WORDS FOR TOPIC #2\n",
            "['potus', 'edited', 'rosenstein', 'bit', 'est', 'nunes', 'realdonaldtrump', 'ly', 'mueller', 'edt']\n",
            "\n",
            "\n"
          ]
        }
      ],
      "id": "m4ObF8WDF47y"
    },
    {
      "cell_type": "code",
      "source": [
        "# obtain categories for all texts\n",
        "true_categorized = corpus.copy()[[\"text\",\"label\"]][corpus[\"label\"]==1]\n",
        "true_categorized[\"topic\"] = corpus_topic_vec.argmax(axis=1)"
      ],
      "metadata": {
        "id": "3B-vxZi-F47z"
      },
      "execution_count": null,
      "outputs": [],
      "id": "3B-vxZi-F47z"
    },
    {
      "cell_type": "code",
      "source": [
        "# get topic IDs and number of texts in the category\n",
        "topics = true_categorized.groupby(\"topic\")[\"text\"].count().sort_values(ascending=True).index\n",
        "counts = true_categorized.groupby(\"topic\")[\"text\"].count().sort_values(ascending=True)"
      ],
      "metadata": {
        "id": "xWDwxwSoF47z"
      },
      "execution_count": null,
      "outputs": [],
      "id": "xWDwxwSoF47z"
    },
    {
      "cell_type": "code",
      "source": [
        "# show value counts per topic\n",
        "true_categorized.groupby(\"topic\")[\"text\"].count().sort_values(ascending=False)"
      ],
      "metadata": {
        "colab": {
          "base_uri": "https://localhost:8080/"
        },
        "outputId": "4b37a9b9-46dc-4823-a0dd-3124312e2508",
        "id": "0S4C1ElCF47z"
      },
      "execution_count": null,
      "outputs": [
        {
          "output_type": "execute_result",
          "data": {
            "text/plain": [
              "topic\n",
              "1    11268\n",
              "0     9885\n",
              "2       38\n",
              "Name: text, dtype: int64"
            ]
          },
          "metadata": {},
          "execution_count": 300
        }
      ],
      "id": "0S4C1ElCF47z"
    },
    {
      "cell_type": "code",
      "source": [
        "# plot count per topic for True data\n",
        "index = topics\n",
        "df = pd.DataFrame({'Counts': counts}, index=index)\n",
        "ax = df.plot.barh(rot=0)\n",
        "ax.grid(axis=\"x\")\n",
        "plt.ylabel(\"Topic\")\n",
        "plt.xlabel(\"Number of texts\")\n",
        "#plt.savefig('Topic_counts.png', bbox_inches='tight')"
      ],
      "metadata": {
        "colab": {
          "base_uri": "https://localhost:8080/",
          "height": 296
        },
        "outputId": "8af42abd-65ca-42e7-a713-949cb7a128c6",
        "id": "YejQoRbyF47z"
      },
      "execution_count": null,
      "outputs": [
        {
          "output_type": "execute_result",
          "data": {
            "text/plain": [
              "Text(0.5, 0, 'Number of texts')"
            ]
          },
          "metadata": {},
          "execution_count": 301
        },
        {
          "output_type": "display_data",
          "data": {
            "text/plain": [
              "<Figure size 432x288 with 1 Axes>"
            ],
            "image/png": "[encoded data removed]"
          },
          "metadata": {
            "needs_background": "light"
          }
        }
      ],
      "id": "YejQoRbyF47z"
    },
    {
      "cell_type": "code",
      "source": [
        "'''palette = np.array(sns.color_palette(\"hls\", number_of_topics))\n",
        "f = plt.figure(figsize=(8, 8))\n",
        "ax = plt.subplot(aspect='equal')\n",
        "sc = ax.scatter(corpus_reduced[:,0], corpus_reduced[:,1], lw=0, s=40, c=palette[np.array(corpus_categorized[\"topic\"]).astype(int)], alpha=0.5)\n",
        "plt.xlim(-25, 25)\n",
        "plt.ylim(-25, 25)\n",
        "ax.axis('off')\n",
        "ax.axis('tight')\n",
        "#plt.savefig('Topic_cluster.png', bbox_inches='tight')'''"
      ],
      "metadata": {
        "id": "t-o4TBnXF47z"
      },
      "execution_count": null,
      "outputs": [],
      "id": "t-o4TBnXF47z"
    },
    {
      "cell_type": "markdown",
      "source": [
        "could be done per category as well; also could use lemmatized text?"
      ],
      "metadata": {
        "id": "UZwfRnhuF47z"
      },
      "id": "UZwfRnhuF47z"
    },
    {
      "cell_type": "markdown",
      "source": [
        "### Sentiment analysis"
      ],
      "metadata": {
        "id": "6BBz-orqMChf"
      },
      "id": "6BBz-orqMChf"
    },
    {
      "cell_type": "code",
      "execution_count": null,
      "id": "f3026960",
      "metadata": {
        "id": "f3026960"
      },
      "outputs": [],
      "source": [
        "def get_sent_sentiment_scores(sent_tokens):\n",
        "    '''\n",
        "    function to get the average sentiment score for each text\n",
        "    '''\n",
        "    sentiment_scores = {}\n",
        "    sia = SentimentIntensityAnalyzer()\n",
        "\n",
        "    for count, sentences_list in enumerate(sent_tokens):\n",
        "        if len(sentences_list) > 0:\n",
        "            text_sentiment = {}\n",
        "            n_sent = 0\n",
        "            for indx, sent in enumerate(sentences_list):\n",
        "                if len(sent)> 3:\n",
        "                    sentiment_dict = sia.polarity_scores(sent)\n",
        "                    text_sentiment[indx] = sentiment_dict\n",
        "                n_sent +=1\n",
        "\n",
        "            pos = 0\n",
        "            neg = 0\n",
        "            neu = 0\n",
        "            if text_sentiment:\n",
        "                for _, value in text_sentiment.items():\n",
        "                    pos += value[\"pos\"]\n",
        "                    neg += value[\"neg\"]\n",
        "                    neu += value[\"neu\"]\n",
        "            sentiment_scores[count] = {\"pos\": (pos/n_sent)*100, \"neg\": (neg/n_sent)*100, \"neu\": (neu/n_sent)*100}\n",
        "    return sentiment_scores"
      ]
    },
    {
      "cell_type": "code",
      "source": [
        "def get_overall_sentiment_score(sent_scores):\n",
        "    '''\n",
        "    function to get overall sentiment score of the dataset\n",
        "    '''\n",
        "    pos = 0\n",
        "    neg = 0\n",
        "    neu = 0\n",
        "    for _, value in sent_scores.items():\n",
        "        pos += value[\"pos\"]\n",
        "        neg += value[\"neg\"]\n",
        "        neu += value[\"neu\"]\n",
        "\n",
        "    return {\"Positive\": pos/len(sent_scores), \"Negative\": neg/len(sent_scores), \"Neutral\": neu/len(sent_scores)}"
      ],
      "metadata": {
        "id": "unV3C-F_haJs"
      },
      "id": "unV3C-F_haJs",
      "execution_count": null,
      "outputs": []
    },
    {
      "cell_type": "code",
      "source": [
        "# obtain all sentiment scores\n",
        "fake_sent_sentiment_scores = get_sent_sentiment_scores(fake_sent_tokens)\n",
        "true_sent_sentiment_scores = get_sent_sentiment_scores(true_sent_tokens)"
      ],
      "metadata": {
        "id": "KCBr7BRJefft"
      },
      "id": "KCBr7BRJefft",
      "execution_count": null,
      "outputs": []
    },
    {
      "cell_type": "code",
      "source": [
        "print(f\"The overall sentiment in the fake dataset:\\n\", get_overall_sentiment_score(fake_sent_sentiment_scores))\n",
        "print(f\"The overall sentiment in the true dataset:\\n\", get_overall_sentiment_score(true_sent_sentiment_scores))"
      ],
      "metadata": {
        "id": "P2HObC2gejLH",
        "colab": {
          "base_uri": "https://localhost:8080/"
        },
        "outputId": "c4bec30c-639e-4e53-b6d3-8ced2426ba1c"
      },
      "id": "P2HObC2gejLH",
      "execution_count": null,
      "outputs": [
        {
          "output_type": "stream",
          "name": "stdout",
          "text": [
            "The overall sentiment in the fake dataset:\n",
            " {'Positive': 13.797137016539704, 'Negative': 13.51031880387908, 'Neutral': 71.77326776541045}\n",
            "The overall sentiment in the true dataset:\n",
            " {'Positive': 11.628310403842134, 'Negative': 10.57358633405281, 'Neutral': 77.64743870150669}\n"
          ]
        }
      ]
    },
    {
      "cell_type": "code",
      "source": [
        "# plot overall sentiment scores for each class\n",
        "index = get_overall_sentiment_score(fake_sent_sentiment_scores).keys()\n",
        "df = pd.DataFrame({'Fake': get_overall_sentiment_score(fake_sent_sentiment_scores).values(),\n",
        "                   'True': get_overall_sentiment_score(true_sent_sentiment_scores).values()}, index=index)\n",
        "ax = df.plot.barh(rot=0,figsize=(10,5))\n",
        "ax.grid(axis=\"x\")\n",
        "plt.ylabel(\"Sentiment\",fontsize=12)\n",
        "plt.xlabel(\"Score\",fontsize=12)\n",
        "plt.title(\"Sentiment scores for each class\",fontsize=16)\n",
        "#plt.savefig('Sentiment_scores.png', bbox_inches='tight')"
      ],
      "metadata": {
        "colab": {
          "base_uri": "https://localhost:8080/",
          "height": 355
        },
        "id": "3kOtLil8BQJ5",
        "outputId": "442d9ae9-fd06-4215-ccae-11a363f5b831"
      },
      "id": "3kOtLil8BQJ5",
      "execution_count": null,
      "outputs": [
        {
          "output_type": "display_data",
          "data": {
            "text/plain": [
              "<Figure size 720x360 with 1 Axes>"
            ],
            "image/png": "[encoded data removed]"
          },
          "metadata": {
            "needs_background": "light"
          }
        }
      ]
    },
    {
      "cell_type": "markdown",
      "source": [
        "## Classification"
      ],
      "metadata": {
        "id": "EwtYFov4Nz3n"
      },
      "id": "EwtYFov4Nz3n"
    },
    {
      "cell_type": "code",
      "source": [
        "corpus_balanced = np.load('corpus_balanced.npy',allow_pickle=True)\n",
        "corpus_balanced_sw = np.load('corpus_balanced_sw.npy',allow_pickle=True)"
      ],
      "metadata": {
        "id": "oDYDptYlEUie"
      },
      "id": "oDYDptYlEUie",
      "execution_count": null,
      "outputs": []
    },
    {
      "cell_type": "code",
      "source": [
        "corpus_balanced = pd.DataFrame({\"text\":corpus_balanced[:,0],\"fake\":corpus_balanced[:,1]})\n",
        "corpus_balanced_sw = pd.DataFrame({\"text\":corpus_balanced_sw[:,0],\"fake\":corpus_balanced_sw[:,1]})"
      ],
      "metadata": {
        "id": "qvj3Z_XfHoHh"
      },
      "id": "qvj3Z_XfHoHh",
      "execution_count": null,
      "outputs": []
    },
    {
      "cell_type": "markdown",
      "source": [
        "#### General functions"
      ],
      "metadata": {
        "id": "bW5a6D_0PSVD"
      },
      "id": "bW5a6D_0PSVD"
    },
    {
      "cell_type": "code",
      "source": [
        "def get_word_distribution(corpus):\n",
        "    '''\n",
        "    retrieve the word distribution for the given corpus\n",
        "    '''\n",
        "    all_words = []\n",
        "\n",
        "    for message in corpus:\n",
        "        words = word_tokenize(message)\n",
        "        for w in words:\n",
        "            all_words.append(w)\n",
        "          \n",
        "    all_words = nltk.FreqDist(all_words)\n",
        "\n",
        "    # Print the overall number of words and the most common words\n",
        "    print('Number of words: {}'.format(len(all_words)))\n",
        "    print('Most common words: {}'.format(all_words.most_common(15)))\n",
        "    return all_words"
      ],
      "metadata": {
        "id": "3AEGzAPpPkMK"
      },
      "id": "3AEGzAPpPkMK",
      "execution_count": null,
      "outputs": []
    },
    {
      "cell_type": "code",
      "source": [
        "def find_features(text, word_features):\n",
        "    '''\n",
        "    Function to determine which of the word features are present in the given text\n",
        "    '''\n",
        "    words = word_tokenize(text)\n",
        "    features = {}\n",
        "    for word in word_features:\n",
        "        features[word] = (word in words)\n",
        "\n",
        "    return features"
      ],
      "metadata": {
        "id": "2DMTUCMPPVT8"
      },
      "id": "2DMTUCMPPVT8",
      "execution_count": null,
      "outputs": []
    },
    {
      "cell_type": "markdown",
      "source": [
        "#### With stopwords"
      ],
      "metadata": {
        "id": "RflNmi0giM-A"
      },
      "id": "RflNmi0giM-A"
    },
    {
      "cell_type": "code",
      "source": [
        "# get data and labels for Classification\n",
        "X_sw = corpus_balanced_sw['text']\n",
        "Y_sw = corpus_balanced_sw['fake']"
      ],
      "metadata": {
        "id": "Hl65U9DVXa79"
      },
      "id": "Hl65U9DVXa79",
      "execution_count": null,
      "outputs": []
    },
    {
      "cell_type": "code",
      "source": [
        "X_sw[:2]"
      ],
      "metadata": {
        "colab": {
          "base_uri": "https://localhost:8080/"
        },
        "id": "DX6C_bljHIXC",
        "outputId": "b3e9ef0b-0643-4e8a-bce4-983e6e6a6efe"
      },
      "id": "DX6C_bljHIXC",
      "execution_count": null,
      "outputs": [
        {
          "output_type": "execute_result",
          "data": {
            "text/plain": [
              "0    COPENHAGEN ( Reuters ) - The populist Danish P...\n",
              "1    BEIRUT ( Reuters ) - Hezbollah leader Sayyed H...\n",
              "Name: text, dtype: object"
            ]
          },
          "metadata": {},
          "execution_count": 33
        }
      ]
    },
    {
      "cell_type": "code",
      "source": [
        "# get most common words from the corpus and use 1500 most common words as features\n",
        "all_words_sw = get_word_distribution(X_sw)\n",
        "word_features_sw = [x[0] for x in all_words_sw.most_common(1500)]"
      ],
      "metadata": {
        "colab": {
          "base_uri": "https://localhost:8080/"
        },
        "outputId": "a300fab6-741c-431a-e78c-c208f7c2a22e",
        "id": "UqSbYCfqiM-C"
      },
      "execution_count": null,
      "outputs": [
        {
          "output_type": "stream",
          "name": "stdout",
          "text": [
            "Number of words: 220854\n",
            "Most common words: [('the', 697053), (',', 694163), ('.', 529887), ('to', 413993), ('a', 380795), ('of', 336669), ('and', 304707), ('in', 250676), ('that', 180509), ('s', 180102), ('on', 143844), ('for', 130242), ('is', 129309), ('Trump', 107534), ('it', 103589)]\n"
          ]
        }
      ],
      "id": "UqSbYCfqiM-C"
    },
    {
      "cell_type": "code",
      "source": [
        "news_sw = list(zip(X_sw, Y_sw))\n",
        "\n",
        "np.random.seed(1)\n",
        "np.random.shuffle(news_sw)\n",
        "\n",
        "# Call find_features function for each news text\n",
        "feature_set_sw = [(find_features(text,word_features_sw), label) for (text, label) in tqdm(news_sw)]"
      ],
      "metadata": {
        "colab": {
          "base_uri": "https://localhost:8080/"
        },
        "outputId": "9cfffb80-ad8c-42e4-fff0-a46c5644d9c4",
        "id": "Nglyql0CiM-C"
      },
      "execution_count": null,
      "outputs": [
        {
          "output_type": "stream",
          "name": "stderr",
          "text": [
            "100%|██████████| 34910/34910 [08:14<00:00, 70.56it/s]\n"
          ]
        }
      ],
      "id": "Nglyql0CiM-C"
    },
    {
      "cell_type": "code",
      "source": [
        "# split data into train and test set\n",
        "train_sw, test_sw = train_test_split(feature_set_sw, test_size=0.25, random_state=1)"
      ],
      "metadata": {
        "id": "dOF7e5wKiM-D"
      },
      "execution_count": null,
      "outputs": [],
      "id": "dOF7e5wKiM-D"
    },
    {
      "cell_type": "code",
      "source": [
        "# setup and run model\n",
        "nb_sw = MultinomialNB()\n",
        "nltk_model_sw = SklearnClassifier(nb_sw)\n",
        "nltk_model_sw.train(train_sw)"
      ],
      "metadata": {
        "colab": {
          "base_uri": "https://localhost:8080/"
        },
        "outputId": "1116eefa-d8e6-431e-f0ca-b36a99e21da5",
        "id": "tArS0nxWiM-D"
      },
      "execution_count": null,
      "outputs": [
        {
          "output_type": "execute_result",
          "data": {
            "text/plain": [
              "<SklearnClassifier(MultinomialNB())>"
            ]
          },
          "metadata": {},
          "execution_count": 37
        }
      ],
      "id": "tArS0nxWiM-D"
    },
    {
      "cell_type": "code",
      "source": [
        "# print accuracy of NB\n",
        "accuracy_sw = nltk.classify.accuracy(nltk_model_sw, test_sw)\n",
        "print(\"Naive Bayes model Accuracy:\",accuracy_sw)"
      ],
      "metadata": {
        "colab": {
          "base_uri": "https://localhost:8080/"
        },
        "id": "-EReY8i8dSuP",
        "outputId": "e6c783f0-cee7-4089-a7f3-8e4109e83d60"
      },
      "id": "-EReY8i8dSuP",
      "execution_count": null,
      "outputs": [
        {
          "output_type": "stream",
          "name": "stdout",
          "text": [
            "Naive Bayes model Accuracy: 0.9826993583868011\n"
          ]
        }
      ]
    },
    {
      "cell_type": "code",
      "source": [
        "# Confusion Matrix\n",
        "test_Y_sw = [text[1] for text in test_sw]\n",
        "test_X_sw = [text[0] for text in test_sw]\n",
        "test_predictions_sw = nltk_model_sw.classify_many(test_X_sw)\n",
        "cm = ConfusionMatrix(test_Y_sw, test_predictions_sw)\n",
        "print(cm)"
      ],
      "metadata": {
        "colab": {
          "base_uri": "https://localhost:8080/"
        },
        "id": "0Mfr6QWKaDHN",
        "outputId": "3f636962-f98b-4d2a-8194-fbd7e102f16b"
      },
      "id": "0Mfr6QWKaDHN",
      "execution_count": null,
      "outputs": [
        {
          "output_type": "stream",
          "name": "stdout",
          "text": [
            "  |    0    1 |\n",
            "--+-----------+\n",
            "0 |<4398>  21 |\n",
            "1 |  130<4179>|\n",
            "--+-----------+\n",
            "(row = reference; col = test)\n",
            "\n"
          ]
        }
      ]
    },
    {
      "cell_type": "markdown",
      "source": [
        "#### Without stopwords"
      ],
      "metadata": {
        "id": "2-uSgXO7dkDC"
      },
      "id": "2-uSgXO7dkDC"
    },
    {
      "cell_type": "code",
      "source": [
        "# get data and labels for Classification\n",
        "X = corpus_balanced['text']\n",
        "Y = corpus_balanced['fake']"
      ],
      "metadata": {
        "id": "2cLzvR4CdkDD"
      },
      "execution_count": null,
      "outputs": [],
      "id": "2cLzvR4CdkDD"
    },
    {
      "cell_type": "code",
      "source": [
        "# get most common words from the corpus and use 1500 most common words as features\n",
        "all_words = get_word_distribution(X)\n",
        "word_features = [x[0] for x in all_words.most_common(1500)]"
      ],
      "metadata": {
        "colab": {
          "base_uri": "https://localhost:8080/"
        },
        "outputId": "755de946-6d8b-4c47-8fcd-1c0f01e9dea1",
        "id": "55Z8nLD1dkDD"
      },
      "execution_count": null,
      "outputs": [
        {
          "output_type": "stream",
          "name": "stdout",
          "text": [
            "Number of words: 138333\n",
            "Most common words: [('s', 181534), ('Trump', 112254), ('said', 105130), ('The', 88230), ('’', 57672), ('I', 48879), ('“', 44322), ('”', 44097), ('t', 43085), ('U', 42704), ('S', 40585), ('people', 31929), ('year', 31762), ('President', 27946), ('Reuters', 23876)]\n"
          ]
        }
      ],
      "id": "55Z8nLD1dkDD"
    },
    {
      "cell_type": "code",
      "source": [
        "news = list(zip(X, Y))\n",
        "\n",
        "np.random.seed(1)\n",
        "np.random.shuffle(news)\n",
        "\n",
        "# Call find_features function for each news text\n",
        "feature_set = [(find_features(text,word_features), label) for (text, label) in tqdm(news)]"
      ],
      "metadata": {
        "colab": {
          "base_uri": "https://localhost:8080/"
        },
        "outputId": "f82e688c-46a6-4939-b24e-8d740a85b10f",
        "id": "ooDtIDXIdkDE"
      },
      "execution_count": null,
      "outputs": [
        {
          "output_type": "stream",
          "name": "stderr",
          "text": [
            "100%|██████████| 34910/34910 [04:26<00:00, 131.13it/s]\n"
          ]
        }
      ],
      "id": "ooDtIDXIdkDE"
    },
    {
      "cell_type": "code",
      "source": [
        "# split data into train and test set\n",
        "train, test = train_test_split(feature_set, test_size=0.25, random_state=1)"
      ],
      "metadata": {
        "id": "G76N_ZJ9dkDF"
      },
      "execution_count": null,
      "outputs": [],
      "id": "G76N_ZJ9dkDF"
    },
    {
      "cell_type": "code",
      "source": [
        "# setup and run model\n",
        "nb = MultinomialNB()\n",
        "nltk_model = SklearnClassifier(nb)\n",
        "nltk_model.train(train)"
      ],
      "metadata": {
        "colab": {
          "base_uri": "https://localhost:8080/"
        },
        "outputId": "dcf5d633-7740-45cd-ab91-2f18c31a8c9b",
        "id": "MxIooJftdkDG"
      },
      "execution_count": null,
      "outputs": [
        {
          "output_type": "execute_result",
          "data": {
            "text/plain": [
              "<SklearnClassifier(MultinomialNB())>"
            ]
          },
          "metadata": {},
          "execution_count": 44
        }
      ],
      "id": "MxIooJftdkDG"
    },
    {
      "cell_type": "code",
      "source": [
        "# print accuracy of NB\n",
        "accuracy = nltk.classify.accuracy(nltk_model, test)\n",
        "print(\"Naive Bayes model Accuracy:\",accuracy)"
      ],
      "metadata": {
        "colab": {
          "base_uri": "https://localhost:8080/"
        },
        "id": "1VbwpnyFdkDG",
        "outputId": "08010baa-e3eb-4896-c0a2-455e2b925b85"
      },
      "execution_count": null,
      "outputs": [
        {
          "output_type": "stream",
          "name": "stdout",
          "text": [
            "Naive Bayes model Accuracy: 0.9794912923923006\n"
          ]
        }
      ],
      "id": "1VbwpnyFdkDG"
    },
    {
      "cell_type": "code",
      "source": [
        "# Confusion Matrix\n",
        "test_Y = [text[1] for text in test]\n",
        "test_X = [text[0] for text in test]\n",
        "test_predictions = nltk_model_sw.classify_many(test_X)\n",
        "cm = ConfusionMatrix(test_Y, test_predictions)\n",
        "print(cm)"
      ],
      "metadata": {
        "colab": {
          "base_uri": "https://localhost:8080/"
        },
        "id": "FfUr2kkfdkDG",
        "outputId": "702e60fb-783f-4303-a6a8-da460979a55a"
      },
      "execution_count": null,
      "outputs": [
        {
          "output_type": "stream",
          "name": "stdout",
          "text": [
            "  |    0    1 |\n",
            "--+-----------+\n",
            "0 |<4403>  16 |\n",
            "1 |  323<3986>|\n",
            "--+-----------+\n",
            "(row = reference; col = test)\n",
            "\n"
          ]
        }
      ],
      "id": "FfUr2kkfdkDG"
    },
    {
      "cell_type": "markdown",
      "source": [
        "### BERT"
      ],
      "metadata": {
        "id": "lA1uDH28tro-"
      },
      "id": "lA1uDH28tro-"
    },
    {
      "cell_type": "markdown",
      "source": [
        "helpful source code for BERT implementation:\n",
        "https://www.tensorflow.org/text/tutorials/classify_text_with_bert"
      ],
      "metadata": {
        "id": "-DVGdqibqH-P"
      },
      "id": "-DVGdqibqH-P"
    },
    {
      "cell_type": "code",
      "source": [
        "# install required dependencies\n",
        "!pip install -q -U \"tensorflow-text==2.8.*\"\n",
        "!pip install -q tf-models-official==2.7.0"
      ],
      "metadata": {
        "id": "CoMkQ4XstdKn"
      },
      "id": "CoMkQ4XstdKn",
      "execution_count": null,
      "outputs": []
    },
    {
      "cell_type": "code",
      "source": [
        "# import required libraries\n",
        "\n",
        "import os\n",
        "import shutil\n",
        "\n",
        "import tensorflow as tf\n",
        "import tensorflow_hub as hub\n",
        "import tensorflow_text as text\n",
        "from official.nlp import optimization  # to create AdamW optimizer\n",
        "\n",
        "import matplotlib.pyplot as plt\n",
        "\n",
        "tf.get_logger().setLevel('ERROR')"
      ],
      "metadata": {
        "id": "7MxYvqcit1-B"
      },
      "id": "7MxYvqcit1-B",
      "execution_count": null,
      "outputs": []
    },
    {
      "cell_type": "code",
      "source": [
        "# Separate into a training and testing dataset\n",
        "train_true_df = true_df.sample(frac = 0.75)\n",
        "test_true_df = true_df.drop(train_fake_df.index)\n",
        "train_fake_df = fake.sample(frac = 0.75)\n",
        "test_fake_df = fake.drop(train_true_df.index)"
      ],
      "metadata": {
        "id": "1AGlhf_-wv6y"
      },
      "id": "1AGlhf_-wv6y",
      "execution_count": null,
      "outputs": []
    },
    {
      "cell_type": "code",
      "source": [
        "# Create required directory structure\n",
        "\n",
        "d = test_fake_df['text']\n",
        "file = 'set/test/fake/file{}.txt'\n",
        "\n",
        "n = 0 # to number the files\n",
        "\n",
        "for x in d:\n",
        "    with open(file.format(n), 'w') as f:\n",
        "        f.write(str(x))\n",
        "    n += 1\n",
        "\n",
        "d = test_true_df['text']\n",
        "file = 'set/test/true/file{}.txt'\n",
        "\n",
        "n = 0 # to number the files\n",
        "\n",
        "for x in d:\n",
        "    with open(file.format(n), 'w') as f:\n",
        "        f.write(str(x))\n",
        "    n += 1\n",
        "\n",
        "d = train_true_df['text']\n",
        "file = 'set/train/true/file{}.txt'\n",
        "\n",
        "n = 0 # to number the files\n",
        "\n",
        "for x in d:\n",
        "    with open(file.format(n), 'w') as f:\n",
        "        f.write(str(x))\n",
        "    n += 1\n",
        "d = train_fake_df['text']\n",
        "file = 'set/train/fake/file{}.txt'\n",
        "\n",
        "n = 0 # to number the files\n",
        "\n",
        "for x in d:\n",
        "    with open(file.format(n), 'w') as f:\n",
        "        f.write(str(x))\n",
        "    n += 1"
      ],
      "metadata": {
        "id": "_TvwxuJSuAJr"
      },
      "id": "_TvwxuJSuAJr",
      "execution_count": null,
      "outputs": []
    },
    {
      "cell_type": "code",
      "source": [
        "# import BERT models for Pre-processing and Encoding\n",
        "bert_model_name = 'small_bert/bert_en_uncased_L-4_H-512_A-8'  #@param [\"bert_en_uncased_L-12_H-768_A-12\", \"bert_en_cased_L-12_H-768_A-12\", \"bert_multi_cased_L-12_H-768_A-12\", \"small_bert/bert_en_uncased_L-2_H-128_A-2\", \"small_bert/bert_en_uncased_L-2_H-256_A-4\", \"small_bert/bert_en_uncased_L-2_H-512_A-8\", \"small_bert/bert_en_uncased_L-2_H-768_A-12\", \"small_bert/bert_en_uncased_L-4_H-128_A-2\", \"small_bert/bert_en_uncased_L-4_H-256_A-4\", \"small_bert/bert_en_uncased_L-4_H-512_A-8\", \"small_bert/bert_en_uncased_L-4_H-768_A-12\", \"small_bert/bert_en_uncased_L-6_H-128_A-2\", \"small_bert/bert_en_uncased_L-6_H-256_A-4\", \"small_bert/bert_en_uncased_L-6_H-512_A-8\", \"small_bert/bert_en_uncased_L-6_H-768_A-12\", \"small_bert/bert_en_uncased_L-8_H-128_A-2\", \"small_bert/bert_en_uncased_L-8_H-256_A-4\", \"small_bert/bert_en_uncased_L-8_H-512_A-8\", \"small_bert/bert_en_uncased_L-8_H-768_A-12\", \"small_bert/bert_en_uncased_L-10_H-128_A-2\", \"small_bert/bert_en_uncased_L-10_H-256_A-4\", \"small_bert/bert_en_uncased_L-10_H-512_A-8\", \"small_bert/bert_en_uncased_L-10_H-768_A-12\", \"small_bert/bert_en_uncased_L-12_H-128_A-2\", \"small_bert/bert_en_uncased_L-12_H-256_A-4\", \"small_bert/bert_en_uncased_L-12_H-512_A-8\", \"small_bert/bert_en_uncased_L-12_H-768_A-12\", \"albert_en_base\", \"electra_small\", \"electra_base\", \"experts_pubmed\", \"experts_wiki_books\", \"talking-heads_base\"]\n",
        "\n",
        "map_name_to_handle = {\n",
        "    'small_bert/bert_en_uncased_L-4_H-512_A-8':\n",
        "        'https://tfhub.dev/tensorflow/small_bert/bert_en_uncased_L-2_H-512_A-8/1'\n",
        "}\n",
        "\n",
        "map_model_to_preprocess = {\n",
        "    'small_bert/bert_en_uncased_L-4_H-512_A-8':\n",
        "        'https://tfhub.dev/tensorflow/bert_en_uncased_preprocess/3'\n",
        "}\n",
        "\n",
        "tfhub_handle_encoder = map_name_to_handle[bert_model_name]\n",
        "tfhub_handle_preprocess = map_model_to_preprocess[bert_model_name]\n",
        "\n",
        "print(f'BERT model selected           : {tfhub_handle_encoder}')\n",
        "print(f'Preprocess model auto-selected: {tfhub_handle_preprocess}')"
      ],
      "metadata": {
        "id": "LtTx7BaduALz"
      },
      "id": "LtTx7BaduALz",
      "execution_count": null,
      "outputs": []
    },
    {
      "cell_type": "code",
      "source": [
        "# define BERT models for Pre-processing and Encoding\n",
        "bert_preprocess_model = hub.KerasLayer(tfhub_handle_preprocess)\n",
        "bert_model = hub.KerasLayer(tfhub_handle_encoder)"
      ],
      "metadata": {
        "id": "IYknFatnuq2s"
      },
      "id": "IYknFatnuq2s",
      "execution_count": null,
      "outputs": []
    },
    {
      "cell_type": "code",
      "source": [
        "# Binary loss function configured for binary classification problem\n",
        "loss = tf.keras.losses.BinaryCrossentropy(from_logits=True)\n",
        "metrics = tf.metrics.BinaryAccuracy()"
      ],
      "metadata": {
        "id": "Ofe5yRUeu0rl"
      },
      "id": "Ofe5yRUeu0rl",
      "execution_count": null,
      "outputs": []
    },
    {
      "cell_type": "code",
      "source": [
        "# Define Model architecture\n",
        "def build_classifier_model():\n",
        "  text_input = tf.keras.layers.Input(shape=(), dtype=tf.string, name='text')\n",
        "  preprocessing_layer = hub.KerasLayer(tfhub_handle_preprocess, name='preprocessing')\n",
        "  encoder_inputs = preprocessing_layer(text_input)\n",
        "  encoder = hub.KerasLayer(tfhub_handle_encoder, trainable=True, name='BERT_encoder')\n",
        "  outputs = encoder(encoder_inputs)\n",
        "  net = outputs['pooled_output']\n",
        "  net = tf.keras.layers.Dropout(0.1)(net)\n",
        "  net = tf.keras.layers.Dense(1, activation=None, name='classifier')(net)\n",
        "  return tf.keras.Model(text_input, net)"
      ],
      "metadata": {
        "id": "98a0Hw9Mu0of"
      },
      "id": "98a0Hw9Mu0of",
      "execution_count": null,
      "outputs": []
    },
    {
      "cell_type": "code",
      "source": [
        "# Configuration of Adam optimizer and epochs \n",
        "epochs = 5\n",
        "steps_per_epoch = tf.data.experimental.cardinality(train_ds).numpy()\n",
        "num_train_steps = steps_per_epoch * epochs\n",
        "num_warmup_steps = int(0.1*num_train_steps)\n",
        "\n",
        "init_lr = 3e-5\n",
        "optimizer = optimization.create_optimizer(init_lr=init_lr,\n",
        "                                          num_train_steps=num_train_steps,\n",
        "                                          num_warmup_steps=num_warmup_steps,\n",
        "                                          optimizer_type='adamw')"
      ],
      "metadata": {
        "id": "nvx7lNeFvLzU"
      },
      "id": "nvx7lNeFvLzU",
      "execution_count": null,
      "outputs": []
    },
    {
      "cell_type": "code",
      "source": [
        "# Compile model\n",
        "classifier_model.compile(optimizer=optimizer,\n",
        "                         loss=loss,\n",
        "                         metrics=metrics)"
      ],
      "metadata": {
        "id": "TRdO0lbxvnKD"
      },
      "id": "TRdO0lbxvnKD",
      "execution_count": null,
      "outputs": []
    },
    {
      "cell_type": "code",
      "source": [
        "# Model training\n",
        "print(f'Training model with {tfhub_handle_encoder}')\n",
        "history = classifier_model.fit(x=train_ds,\n",
        "                               validation_data=val_ds,\n",
        "                               epochs=epochs)"
      ],
      "metadata": {
        "id": "CTnRMZfivNhY"
      },
      "id": "CTnRMZfivNhY",
      "execution_count": null,
      "outputs": []
    },
    {
      "cell_type": "code",
      "source": [
        "# Model evaluation\n",
        "loss, accuracy = classifier_model.evaluate(test_ds)\n",
        "\n",
        "print(f'Loss: {loss}')\n",
        "print(f'Accuracy: {accuracy}')"
      ],
      "metadata": {
        "id": "uqYw_ohdqSsP"
      },
      "id": "uqYw_ohdqSsP",
      "execution_count": null,
      "outputs": []
    }
  ],
  "metadata": {
    "kernelspec": {
      "display_name": "Python 3",
      "language": "python",
      "name": "python3"
    },
    "language_info": {
      "codemirror_mode": {
        "name": "ipython",
        "version": 3
      },
      "file_extension": ".py",
      "mimetype": "text/x-python",
      "name": "python",
      "nbconvert_exporter": "python",
      "pygments_lexer": "ipython3",
      "version": "3.8.8"
    },
    "colab": {
      "provenance": [],
      "collapsed_sections": [
        "ecf8b060",
        "zd9itpFUGtam",
        "ceae70de",
        "6abcffe2",
        "a23e79d1",
        "1b71a288",
        "br_4ASFMhIQZ",
        "X6CMnHWFhNh1",
        "04338fe1",
        "CXvVwUjpJ_sH",
        "PxEP9bxjoIM7",
        "hzMeCCvQpkz8",
        "eea58c1e",
        "yDuyMILa8kfk",
        "NWGs161wF47x",
        "6BBz-orqMChf",
        "RflNmi0giM-A"
      ],
      "toc_visible": true
    }
  },
  "nbformat": 4,
  "nbformat_minor": 5
}